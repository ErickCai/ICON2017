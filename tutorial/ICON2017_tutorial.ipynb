{
 "cells": [
  {
   "cell_type": "markdown",
   "metadata": {},
   "source": [
    "# ICON 2017 workshop: MVPA of fMRI data in Python\n",
    "\n",
    "Welcome to this workshop! In the upcoming couple of hours, you'll work through this (Jupyter) \"notebook\" - a sort of code editor in your browser that allows mixing of code (Python) and text (markdown) cells. Originally, this notebook was developed for the Research Master Psychology course [Neuroimaging: Pattern Analysis](http://studiegids.uva.nl/xmlpages/page/2017-2018/zoek-vak/vak/39531) at the University of Amsterdam, but it was adapted and extended for this ICON workshop.\n",
    "\n",
    "### Scope\n",
    "In general, this notebook is designed for people who are relatively *unfamiliar* with MVPA and/or its implementation in Python. We *do* assume that you are familiar with analyzing (f)MRI data; the purpose of this workshop is to \"extend your analysis toolbox\", so to say. As such, it’s definitely helpful if you have some knowledge about Python’s syntax, but it’s not strictly necessary. Also, we assume participants are relatively unfamiliar with machine learning (ML) concepts and their implementation; if you’re a ML guru, this is probably not the right workshop for you...\n",
    "\n",
    "At certain points in the tutorial, we've included some more \"advanced\" material, but again, feel free to skip this. Also, realize that this tutorial is about the concepts behind MVPA and how to implement them using domain-general Python tools, such as [scikit-learn](http://scikit-learn.org). Importantly, this tutorial is **not** about how to use MVPA-specific frameworks such as [PyMVPA](http://www.pymvpa.org/) or [Nilearn](http://nilearn.github.io/), although we included a short section on [skbold](http://skbold.readthedocs.io), our own \"machine learning for fMRI\" package that is built around scikit-learn. \n",
    "\n",
    "Also, there is actually no single \"multivoxel pattern analysis\"; rather, MVPA is a bucket-term referring to several kinds of pattern-based analyses. As this tutorial cannot cover all such analyses, we limit the scope to machine learning (*classification-based*) analyses of fMRI data based on *within-subject* designs (leaving out between-subject decoding, regression-based analyses, unsupervised learing, etc.). We hope to cover these grounds sufficiently well for you to be able to explore other kinds of analyses own your own. \n",
    "\n",
    "### Learning goals of this workshop\n",
    "In this workshop, we cover the basics of applying multivoxel pattern analysis (MVPA) to analyze (functional) MRI data in Python. After this tutorial, you are able to:\n",
    "\n",
    "- Understand the differences between within-subject and between-subject pattern analysis;\n",
    "- Know how to extract/estimate patterns from fMRI data;\n",
    "- Implement different feature extraction and selection methods using scikit-learn;\n",
    "- Build cross-validated MVPA pipelines using scikit-learn;\n",
    "- Evaluate your models\n",
    "\n",
    "In short, this tutorial will show how to build your own complete, cross-validated MVPA pipeline for fMRI data.\n",
    "\n",
    "### A note on the data we use\n",
    "The dataset we use for this workshop was chosen out of convenience and is not an example of an optimally design dataset for MVPA-based analyses. Although this workshop is *not* about optimal design strategies for MVPA, we point out shortcomings to the used example dataset wherever necessary.\n",
    "\n",
    "### Contents of this notebook\n",
    "We designed this notebook to be interactive. That is, you'll encounter several \"*ToDo*s\" (yellow boxes) and \"*ToThink*s\" (blue boxes) that describe short programming exercises (ToDos) and questions for you to think about (ToThinks), which are aimed to improve understanding of the discussed so far. After each *ToDo*, there is a code block that tests whether your answer is correct. Correct answers to the *ToDos* and *ToThinks* are included in the `ICON2017_tutorial_answers.ipynb` notebook (but try it yourself first!). If you're not very comfortable/experienced with Python, or if you just don't feel like it, feel free to skip them, of course. Also, feel free to ask us questions during this workshop!\n",
    "\n",
    "The tutorial is split in two parts. In the first part, we cover the basics of experimental designs, and illustrate how to extract patterns from raw fMRI data in a way that MVPA can be applied. In the second part, the major steps in MVPA (ML-based) pipelines is discussed: feature extraction and selection, cross-validation, and model evaluation. We challenge you to optimize your pipelines to maximize your decoding accuracy scores!\n",
    "\n",
    "Have fun and good luck!\n",
    "\n",
    "---"
   ]
  },
  {
   "cell_type": "markdown",
   "metadata": {},
   "source": [
    "### Using Jupyter notebooks\n",
    "This tutorial is implemented in a \"Jupyter notebook\", which includes \"code cells\" - which are able to run Python code - and \"text cells\" - which render Markdown text. For this tutorial, it suffices to know how to run cells, which you can do by selecting the (code) cell and pressing `CTRL + ENTER` or pressing the \"play\" button in the toolbar on the top of the page. For more info on Jupyter notebooks, check the [python tutorial notebook](python_tutorial.ipynb)."
   ]
  },
  {
   "cell_type": "markdown",
   "metadata": {},
   "source": [
    "#### Before you go on: did you download the data?\n",
    "Did you already download the data, as described [here](http://lukas-snoek.com/ICON2017/)? Check it by running the cell below (CTR + ENTER)!"
   ]
  },
  {
   "cell_type": "code",
   "execution_count": 1,
   "metadata": {},
   "outputs": [
    {
     "name": "stdout",
     "output_type": "stream",
     "text": [
      "You already downloaded the data, nice! Continue with Part 1!\n"
     ]
    }
   ],
   "source": [
    "import os\n",
    "if os.path.isdir('../data'):\n",
    "    print(\"You already downloaded the data, nice! Continue with Part 1!\")\n",
    "else:\n",
    "    print(\"Seems you don't have the data yet ... Go to lukas-snoek.com/ICON2017 for instructions on how to download it.\")"
   ]
  },
  {
   "cell_type": "markdown",
   "metadata": {},
   "source": [
    "## Part 1: Experimental design, pattern estimation, and data representation\n",
    "Before you can do any fancy machine learning analysis (or any other pattern analysis), there are several decisions you need to make and steps to take in (pre)processing and structuring your data. Roughly, there are three steps to take:\n",
    "\n",
    "1. Design your study in a way that's appropriate to answer your question through a pattern analysis; this, of course, needs to be done *before* data acquisition!\n",
    "2. Estimate/extract your patterns from the (functional) MRI data;\n",
    "3. Structure and represent your data appropriately for pattern analyses;\n",
    "\n",
    "While we won't go into all the design factors that make for an *efficient* pattern analysis (see [this article](http://www.sciencedirect.com/science/article/pii/S105381191400768X) for a good review), we will now discuss/demonstrate some design considerations and how they impact the rest of the MVPA pipeline."
   ]
  },
  {
   "cell_type": "markdown",
   "metadata": {},
   "source": [
    "### 1.1. Designs for pattern analysis\n",
    "There are many ways in which you can categorize different types of pattern analyses, but one of the most basic categorizations is in terms of whether analyses are **within-subject** or **between-subject**. The major distinction revolves around whether you want to investigate an (experimental) factor that varies or is manipulated **within** subjects or that varies **across** subjects (i.e. individual differences or experimental between-subject designs)\\*.\n",
    "\n",
    "----\n",
    "\\* **N.B.**: there are also \"hybrid\" forms, such as when you decode a within-subject factor (e.g. \"negative vs. positive images\") from condition-average patterns across subjects. That is, each subject \"contains\" two patterns (one \"negative image\" pattern, one \"positive image\" pattern) and these patterns are decoded *across* subjects"
   ]
  },
  {
   "cell_type": "markdown",
   "metadata": {},
   "source": [
    "<div class='alert alert-info'>\n",
    "**ToThink**: Decide for the following scenarios whether they correspond to a **within-subject** or **between-subject** design!<br><br>\n",
    "\n",
    "1. Subjects view a sequence of negative (violence, mutilation, war-scenes) images during fMRI acquisition. One group of subjects are administered [propanolol](https://en.wikipedia.org/wiki/Propranolol) before the fMRI session and another group a placebo. The researcher in charge wants to see whether patterns in the insula change in reponse to propanolol using a pattern-based analysis. <br><br>\n",
    "\n",
    "2. Subjects view images of scenes with either animate of inanimate objects during fMRI acquisition. The researcher wants to decode \"animacy\" from patterns in the lateral occipital cortex.\n",
    "</div>"
   ]
  },
  {
   "cell_type": "markdown",
   "metadata": {},
   "source": [
    "Importantly, these two types of analyses differ in what is regarded as an *instance of a pattern* (also referred to as a *sample*):\n",
    "\n",
    "- in **within**-subject analyses, *each instance of your feature-of-interest represents one pattern* (e.g., each single trial/stimulus/response);\n",
    "- in **between**-subject analyses, *each subject represents one pattern*.\n",
    "\n",
    "This distinction is important, because the choice of type of pattern analysis has major consequences for the design of your experiment and the methods available for pattern extraction. **Throughout this tutorial, we focus on within-subject analyses**, using a simple two-class working memory data-set."
   ]
  },
  {
   "cell_type": "markdown",
   "metadata": {},
   "source": [
    "### 1.2. Pattern estimation for within-subject designs\n",
    "There are different ways to estimate your patterns for pattern-based analyses. Suppose you want to decode neural representations of faces from representations of houses. In that case, you need to to estimate a pattern for each face and each house. Now, suppose we show a face at 9 seconds, we can \"extract\" activity at each voxel for that stimulus in three ways (see figure below):\n",
    "\n",
    "1. Extract just a point estimate of activity at, e.g., 6 seconds post-stimulus (expected HRF peak);\n",
    "2. Average across a range of points;\n",
    "3. Fit a HRF *per stimulus* and extract the corresponding $\\beta$-parameter;\n",
    "\n",
    "As method 3 (fitting a separate HRF per stimulus) has shown to yield the most stable pattern estimates ([Misaki et al., 2010](http://www.sciencedirect.com/science/article/pii/S1053811910007834)), we'll focus on that method in the rest of this section.\n",
    "\n",
    "<img src=\"img/pattern_estimation.png\" alt=\"Drawing\" heigth=\"150\" width=\"1000\">"
   ]
  },
  {
   "cell_type": "markdown",
   "metadata": {},
   "source": [
    "We will extract *patterns* of $\\beta$-estimates by fitting a hemodynamic response function (HRF) per trial using the general linear model (GLM). In other words, \"trials\" (i.e. instances of your feature-of-interest) in within-subject designs are modelled as separate regressors in a first-level analysis. Below, we included an image of a single-trial design (of the hypothetical faces vs. houses experiment) as created in FSL:<img src=\"img/single_trial_design.png\" alt=\"Drawing\" heigth=\"100\" width=\"500\">"
   ]
  },
  {
   "cell_type": "markdown",
   "metadata": {},
   "source": [
    "As you can see, each trial gets it's own regressor (hence the name \"single-trial design\"). Then, as depicted below the design matrix, a contrast-against-baseline is created for each regressor (trial). After you run a first-level analysis using this design, you'll have whole-brain maps containing statistics values ($\\beta$-values, *t*-values, or *z*-values) for each trial that represent the trial's estimated (whole-brain) pattern. Usually, *t*-values or *z*-values are used instead of $\\beta$-values (cf [Misaki et al., 2010](http://www.sciencedirect.com/science/article/pii/S1053811910007834)).\n",
    "\n",
    "**Importantly, this design thus specifies that each \"trial\" represents a sample with its own pattern (voxel-activities).**\n",
    "\n",
    "Before you go on, make sure you understand this image! This image represents basically all you need to understand about single-trial designs. "
   ]
  },
  {
   "cell_type": "markdown",
   "metadata": {},
   "source": [
    "### 1.3. Implementing a single-trial design\n",
    "To further illustrate how single-trial designs work, let's create your own single-trial matrix corresponding to a (real) working memory experiment. In this experiment, one condition (\"ACTIVE\") required subjects to remember a configuration of bars, and after a retention period had to respond whether one of the bars has changed in the test-image or not. In the other condition (\"PASSIVE\") they just watched a blank screen and had to respond with a random answer. The experiment is depicted schematically below:\n",
    "\n",
    "![test](img/WM_example.png) "
   ]
  },
  {
   "cell_type": "markdown",
   "metadata": {},
   "source": [
    "In total, subjects performed 40 trials, of which 32 were of the \"ACTIVE\" condition and 8 were of the \"PASSIVE\" condition**\\***. Next, we'll generate a single-trial design that aims to estimate the pattern for each trial.\n",
    "\n",
    "---\n",
    "**\\* Note**: this data-set was not necessarily meant to be analysed with MVPA, as it has some sub-optimal factors w.r.t. pattern analysis, such as class-imbalance (32 active vs. 8 passive trials) and all \"instances\" (trials) contained in a single run, while it is often recommended to spread out your trials across different runs (see e.g. [this study](http://www.sciencedirect.com/science/article/pii/S1053811912003643)), which will be shortly discussed in section 2.4. (on cross-validation)."
   ]
  },
  {
   "cell_type": "markdown",
   "metadata": {},
   "source": [
    "Below, we'll load the trial onset times (and trial durations and conditions)."
   ]
  },
  {
   "cell_type": "code",
   "execution_count": 2,
   "metadata": {
    "collapsed": true
   },
   "outputs": [],
   "source": [
    "# First, we need to import some Python packages\n",
    "import numpy as np\n",
    "import pandas as pd\n",
    "import os.path as op\n",
    "import warnings\n",
    "import matplotlib.pyplot as plt\n",
    "plt.style.use('classic')\n",
    "warnings.filterwarnings(\"ignore\")\n",
    "%matplotlib inline"
   ]
  },
  {
   "cell_type": "code",
   "execution_count": 3,
   "metadata": {},
   "outputs": [
    {
     "data": {
      "text/html": [
       "<div>\n",
       "<style>\n",
       "    .dataframe thead tr:only-child th {\n",
       "        text-align: right;\n",
       "    }\n",
       "\n",
       "    .dataframe thead th {\n",
       "        text-align: left;\n",
       "    }\n",
       "\n",
       "    .dataframe tbody tr th {\n",
       "        vertical-align: top;\n",
       "    }\n",
       "</style>\n",
       "<table border=\"1\" class=\"dataframe\">\n",
       "  <thead>\n",
       "    <tr style=\"text-align: right;\">\n",
       "      <th></th>\n",
       "      <th>onset</th>\n",
       "      <th>duration</th>\n",
       "      <th>trial_type</th>\n",
       "    </tr>\n",
       "  </thead>\n",
       "  <tbody>\n",
       "    <tr>\n",
       "      <th>0</th>\n",
       "      <td>8</td>\n",
       "      <td>6</td>\n",
       "      <td>1</td>\n",
       "    </tr>\n",
       "    <tr>\n",
       "      <th>1</th>\n",
       "      <td>20</td>\n",
       "      <td>6</td>\n",
       "      <td>1</td>\n",
       "    </tr>\n",
       "    <tr>\n",
       "      <th>2</th>\n",
       "      <td>26</td>\n",
       "      <td>6</td>\n",
       "      <td>1</td>\n",
       "    </tr>\n",
       "    <tr>\n",
       "      <th>3</th>\n",
       "      <td>36</td>\n",
       "      <td>6</td>\n",
       "      <td>0</td>\n",
       "    </tr>\n",
       "    <tr>\n",
       "      <th>4</th>\n",
       "      <td>42</td>\n",
       "      <td>6</td>\n",
       "      <td>1</td>\n",
       "    </tr>\n",
       "    <tr>\n",
       "      <th>5</th>\n",
       "      <td>52</td>\n",
       "      <td>6</td>\n",
       "      <td>1</td>\n",
       "    </tr>\n",
       "    <tr>\n",
       "      <th>6</th>\n",
       "      <td>60</td>\n",
       "      <td>6</td>\n",
       "      <td>1</td>\n",
       "    </tr>\n",
       "    <tr>\n",
       "      <th>7</th>\n",
       "      <td>66</td>\n",
       "      <td>6</td>\n",
       "      <td>1</td>\n",
       "    </tr>\n",
       "    <tr>\n",
       "      <th>8</th>\n",
       "      <td>72</td>\n",
       "      <td>6</td>\n",
       "      <td>1</td>\n",
       "    </tr>\n",
       "    <tr>\n",
       "      <th>9</th>\n",
       "      <td>78</td>\n",
       "      <td>6</td>\n",
       "      <td>1</td>\n",
       "    </tr>\n",
       "    <tr>\n",
       "      <th>10</th>\n",
       "      <td>86</td>\n",
       "      <td>6</td>\n",
       "      <td>1</td>\n",
       "    </tr>\n",
       "    <tr>\n",
       "      <th>11</th>\n",
       "      <td>92</td>\n",
       "      <td>6</td>\n",
       "      <td>1</td>\n",
       "    </tr>\n",
       "    <tr>\n",
       "      <th>12</th>\n",
       "      <td>100</td>\n",
       "      <td>6</td>\n",
       "      <td>1</td>\n",
       "    </tr>\n",
       "    <tr>\n",
       "      <th>13</th>\n",
       "      <td>106</td>\n",
       "      <td>6</td>\n",
       "      <td>0</td>\n",
       "    </tr>\n",
       "    <tr>\n",
       "      <th>14</th>\n",
       "      <td>112</td>\n",
       "      <td>6</td>\n",
       "      <td>1</td>\n",
       "    </tr>\n",
       "    <tr>\n",
       "      <th>15</th>\n",
       "      <td>118</td>\n",
       "      <td>6</td>\n",
       "      <td>1</td>\n",
       "    </tr>\n",
       "    <tr>\n",
       "      <th>16</th>\n",
       "      <td>126</td>\n",
       "      <td>6</td>\n",
       "      <td>0</td>\n",
       "    </tr>\n",
       "    <tr>\n",
       "      <th>17</th>\n",
       "      <td>134</td>\n",
       "      <td>6</td>\n",
       "      <td>1</td>\n",
       "    </tr>\n",
       "    <tr>\n",
       "      <th>18</th>\n",
       "      <td>140</td>\n",
       "      <td>6</td>\n",
       "      <td>1</td>\n",
       "    </tr>\n",
       "    <tr>\n",
       "      <th>19</th>\n",
       "      <td>150</td>\n",
       "      <td>6</td>\n",
       "      <td>1</td>\n",
       "    </tr>\n",
       "    <tr>\n",
       "      <th>20</th>\n",
       "      <td>156</td>\n",
       "      <td>6</td>\n",
       "      <td>0</td>\n",
       "    </tr>\n",
       "    <tr>\n",
       "      <th>21</th>\n",
       "      <td>162</td>\n",
       "      <td>6</td>\n",
       "      <td>0</td>\n",
       "    </tr>\n",
       "    <tr>\n",
       "      <th>22</th>\n",
       "      <td>172</td>\n",
       "      <td>6</td>\n",
       "      <td>1</td>\n",
       "    </tr>\n",
       "    <tr>\n",
       "      <th>23</th>\n",
       "      <td>180</td>\n",
       "      <td>6</td>\n",
       "      <td>1</td>\n",
       "    </tr>\n",
       "    <tr>\n",
       "      <th>24</th>\n",
       "      <td>188</td>\n",
       "      <td>6</td>\n",
       "      <td>1</td>\n",
       "    </tr>\n",
       "    <tr>\n",
       "      <th>25</th>\n",
       "      <td>194</td>\n",
       "      <td>6</td>\n",
       "      <td>1</td>\n",
       "    </tr>\n",
       "    <tr>\n",
       "      <th>26</th>\n",
       "      <td>204</td>\n",
       "      <td>6</td>\n",
       "      <td>0</td>\n",
       "    </tr>\n",
       "    <tr>\n",
       "      <th>27</th>\n",
       "      <td>210</td>\n",
       "      <td>6</td>\n",
       "      <td>1</td>\n",
       "    </tr>\n",
       "    <tr>\n",
       "      <th>28</th>\n",
       "      <td>216</td>\n",
       "      <td>6</td>\n",
       "      <td>1</td>\n",
       "    </tr>\n",
       "    <tr>\n",
       "      <th>29</th>\n",
       "      <td>222</td>\n",
       "      <td>6</td>\n",
       "      <td>1</td>\n",
       "    </tr>\n",
       "    <tr>\n",
       "      <th>30</th>\n",
       "      <td>228</td>\n",
       "      <td>6</td>\n",
       "      <td>1</td>\n",
       "    </tr>\n",
       "    <tr>\n",
       "      <th>31</th>\n",
       "      <td>238</td>\n",
       "      <td>6</td>\n",
       "      <td>1</td>\n",
       "    </tr>\n",
       "    <tr>\n",
       "      <th>32</th>\n",
       "      <td>244</td>\n",
       "      <td>6</td>\n",
       "      <td>1</td>\n",
       "    </tr>\n",
       "    <tr>\n",
       "      <th>33</th>\n",
       "      <td>252</td>\n",
       "      <td>6</td>\n",
       "      <td>1</td>\n",
       "    </tr>\n",
       "    <tr>\n",
       "      <th>34</th>\n",
       "      <td>258</td>\n",
       "      <td>6</td>\n",
       "      <td>1</td>\n",
       "    </tr>\n",
       "    <tr>\n",
       "      <th>35</th>\n",
       "      <td>264</td>\n",
       "      <td>6</td>\n",
       "      <td>1</td>\n",
       "    </tr>\n",
       "    <tr>\n",
       "      <th>36</th>\n",
       "      <td>272</td>\n",
       "      <td>6</td>\n",
       "      <td>0</td>\n",
       "    </tr>\n",
       "    <tr>\n",
       "      <th>37</th>\n",
       "      <td>280</td>\n",
       "      <td>6</td>\n",
       "      <td>0</td>\n",
       "    </tr>\n",
       "    <tr>\n",
       "      <th>38</th>\n",
       "      <td>296</td>\n",
       "      <td>6</td>\n",
       "      <td>1</td>\n",
       "    </tr>\n",
       "    <tr>\n",
       "      <th>39</th>\n",
       "      <td>302</td>\n",
       "      <td>6</td>\n",
       "      <td>1</td>\n",
       "    </tr>\n",
       "  </tbody>\n",
       "</table>\n",
       "</div>"
      ],
      "text/plain": [
       "    onset  duration  trial_type\n",
       "0       8         6           1\n",
       "1      20         6           1\n",
       "2      26         6           1\n",
       "3      36         6           0\n",
       "4      42         6           1\n",
       "5      52         6           1\n",
       "6      60         6           1\n",
       "7      66         6           1\n",
       "8      72         6           1\n",
       "9      78         6           1\n",
       "10     86         6           1\n",
       "11     92         6           1\n",
       "12    100         6           1\n",
       "13    106         6           0\n",
       "14    112         6           1\n",
       "15    118         6           1\n",
       "16    126         6           0\n",
       "17    134         6           1\n",
       "18    140         6           1\n",
       "19    150         6           1\n",
       "20    156         6           0\n",
       "21    162         6           0\n",
       "22    172         6           1\n",
       "23    180         6           1\n",
       "24    188         6           1\n",
       "25    194         6           1\n",
       "26    204         6           0\n",
       "27    210         6           1\n",
       "28    216         6           1\n",
       "29    222         6           1\n",
       "30    228         6           1\n",
       "31    238         6           1\n",
       "32    244         6           1\n",
       "33    252         6           1\n",
       "34    258         6           1\n",
       "35    264         6           1\n",
       "36    272         6           0\n",
       "37    280         6           0\n",
       "38    296         6           1\n",
       "39    302         6           1"
      ]
     },
     "execution_count": 3,
     "metadata": {},
     "output_type": "execute_result"
    }
   ],
   "source": [
    "# The onset times are loaded as pandas dataframe with three columns: \n",
    "# onset times (in seconds) (column 1), durations (column 2), and conditions (column 3).\n",
    "# N.B.: condition 0 = passive, condition 1 = active\n",
    "stim_info = pd.read_csv(op.join('example_data', 'onsets.csv'), sep='\\t',\n",
    "                        names=['onset', 'duration', 'trial_type'])\n",
    "stim_info"
   ]
  },
  {
   "cell_type": "markdown",
   "metadata": {},
   "source": [
    "Remember, the onsets (and duration) are here defined in seconds (not TRs). Let's assume that the fMRI-run has a TR of 2. Now, we can convert (very easily!) the onsets/durations-in-seconds to onsets/durations-in-TRs."
   ]
  },
  {
   "cell_type": "code",
   "execution_count": 4,
   "metadata": {
    "collapsed": true
   },
   "outputs": [],
   "source": [
    "stim_info[['onset', 'duration']] = (stim_info[['onset', 'duration']] / 2).astype(int)"
   ]
  },
  {
   "cell_type": "markdown",
   "metadata": {},
   "source": [
    "To perform the first-level analysis, for each regressor (trial) we need to create a regressor of zeros and ones, in which the ones represent the moments in which the particular trial was presented. Let's assume that our moment of interest is the encoding phase, which lasts only 2 seconds; we thus can model it as an \"impulse\".\n",
    "\n",
    "So, for example, if you have a (hypothetical) run with a total duration of 15 TRs, and you show a stimulus at TR=3 for the duration of 1 TRs (i.e. 2 seconds), then you'd code your regressor as:\n",
    "\n",
    "`[0, 0, 1, 0, 0, 0, 0, 0, 0, 0, 0, 0, 0, 0, 0]`"
   ]
  },
  {
   "cell_type": "markdown",
   "metadata": {},
   "source": [
    "<div class='alert alert-warning'>\n",
    "**ToDo**: Below, we initialized a stimulus vector (`stim_vec`) of shape=[162, 40], i.e. timepoints x trials (this run was 162 TRs long), with zeros. Each of the 40 rows represents one trial. Loop over the colums of the `stim_vec` matrix and fill the times at onset till the onset + 2 TRs with ones. Remember, the first index in Python is zero (not 1!).\n",
    "</div>"
   ]
  },
  {
   "cell_type": "code",
   "execution_count": 5,
   "metadata": {
    "collapsed": true
   },
   "outputs": [],
   "source": [
    "# Fill the stim_vec variable with ones at the indices of the onsets per trial!\n",
    "n_trials = 40\n",
    "stim_vec = np.zeros((162, n_trials))\n",
    "\n",
    "for itrial in range(n_trials):\n",
    "    idx = stim_info['onset'][itrial]\n",
    "    stim_vec[idx, itrial] = 1"
   ]
  },
  {
   "cell_type": "markdown",
   "metadata": {},
   "source": [
    "#### Check your ToDo\n",
    "Run the cell below to check whether you implemented the ToDo correctly! If it gives no errors, your implementation is correct!"
   ]
  },
  {
   "cell_type": "code",
   "execution_count": 6,
   "metadata": {},
   "outputs": [
    {
     "name": "stdout",
     "output_type": "stream",
     "text": [
      "Well done!\n"
     ]
    }
   ],
   "source": [
    "np.testing.assert_array_equal(stim_vec, np.load('example_data/stim_vec.npy'))\n",
    "print(\"Well done!\")"
   ]
  },
  {
   "cell_type": "markdown",
   "metadata": {},
   "source": [
    "#### Skip this ToDo?\n",
    "If you want to skip this ToDo, load the correct `stim_vec` variable below, because we'll need that for the rest of the tutorial!"
   ]
  },
  {
   "cell_type": "code",
   "execution_count": 7,
   "metadata": {
    "collapsed": true
   },
   "outputs": [],
   "source": [
    "stim_vec = np.load('example_data/stim_vec.npy')"
   ]
  },
  {
   "cell_type": "markdown",
   "metadata": {},
   "source": [
    "Now, we only need to convolve an HRF with the stimulus-vectors (using the `numpy` function `convolve()`) and we'll have a complete single-trial design!**\\*** Don't worry, we do this for you. We'll also plot it to see how it looks (blue = active trials, red = passive trials):"
   ]
  },
  {
   "cell_type": "code",
   "execution_count": 8,
   "metadata": {},
   "outputs": [
    {
     "data": {
      "image/png": "[encoded data removed]",
      "text/plain": [
       "<matplotlib.figure.Figure at 0x7fed6f980160>"
      ]
     },
     "metadata": {},
     "output_type": "display_data"
    }
   ],
   "source": [
    "from functions import double_gamma\n",
    "\n",
    "hrf = double_gamma(np.arange(162))\n",
    "\n",
    "# List comprehension (fancy for-loop) + stack results back to a matrix\n",
    "X = np.vstack([np.convolve(hrf, stim_vec[:, i], 'full')[:162] for i in range(40)]).T\n",
    "\n",
    "plt.figure(figsize=(30, 10))\n",
    "for plot in range(40):\n",
    "    is_active = True if stim_info['trial_type'][plot] == 1 else False\n",
    "    plt.plot(X[:, plot] + plot, np.arange(X.shape[0]), c='blue' if is_active else 'red', lw=3)\n",
    "    plt.text(plot - 0.5, -15, 'active' if is_active else 'passive',\n",
    "             rotation=45, fontsize=20)\n",
    "\n",
    "plt.ylabel('Time (TR)', fontsize=40)\n",
    "plt.xlabel('Regressors (trials)', fontsize=40)\n",
    "plt.xlim((-1, 40))\n",
    "plt.ylim((0, 160))\n",
    "ax = plt.gca()\n",
    "ax.spines['right'].set_visible(False)\n",
    "ax.spines['top'].set_visible(False)\n",
    "ax.invert_yaxis()\n",
    "plt.show()"
   ]
  },
  {
   "cell_type": "markdown",
   "metadata": {},
   "source": [
    "**\\* Note**: This specific data-set does not have a proper design for a machine-learning analysis on single-trial patterns, because the short ISI leads to temporal autocorrelation between subsequent trials and may thus result in inflated accuracy scores (cf. [Mumford et al., 2014](http://www.sciencedirect.com/science/article/pii/S105381191400768X)). It is generally recommended to use a long ISI (> 6 seconds) in combination with fully randomized (and class-balanced) trials, or to perform run-wise cross-validation (something we'll revisit in the section on cross-validation).\n",
    "\n",
    "----"
   ]
  },
  {
   "cell_type": "markdown",
   "metadata": {},
   "source": [
    "The GLM that evaluates this design will yield a $\\beta$-estimate per trial per voxel. In other words, every trial is associated with a specific (whole-brain) pattern of $\\beta$-values.\n",
    "\n",
    "Usually, though, *t*-values instead of *$\\beta$*-values are used, because [it has been shown](http://www.sciencedirect.com/science/article/pii/S1053811910007834) that converting $\\beta$-values to *t*-values (also called *univariate normalization*) often creates more stable and robust patterns. $\\beta$-values can be normalized to *t*-values by simply dividing the parameter estimate ($\\beta$) by it's corresponding standard error, which we won't show here but we're confident you know how to do that yourself!"
   ]
  },
  {
   "cell_type": "markdown",
   "metadata": {},
   "source": [
    "### 1.4. Visualizing patterns\n",
    "\n",
    "So, now you know how to create a \"single-trial design\" for pattern analyses! As a short summary:\n",
    "- Model each \"trial\" (or more generally, \"instance\") as a separate HRF-convolved regressor;\n",
    "- Additionally define a contrast-matrix in which each trial is contrasted against baseline in order to create *t*-value/*z*-value patterns;"
   ]
  },
  {
   "cell_type": "markdown",
   "metadata": {},
   "source": [
    "<div class='alert alert-warning'>\n",
    "**ToDo**: We ran the first-level analysis of the single-trial working-memory design outlined above for fifteen subjects using FSL. You can find the results in the directory: `../data/{subject_number}/wm.feat`. Pick one of the subjects, and check out the `stats` subdirectory. You will see forty tstat-niftis, each containing a whole-brain pattern of *t*-stats of a single trial. These contain the data we will use in this tutorial for MVPA.\n",
    "</div>"
   ]
  },
  {
   "cell_type": "markdown",
   "metadata": {},
   "source": [
    "Alright, you now know what a single-trial (within-subject) design looks like and what it produces (i.e. single-trial pattern estimates in the form of whole-brain $\\beta$/*t*-stat/*z*-stat maps). Before we go on, we will show what a pattern of a single trial looks like in fslview. This will hopefully give you some more \"intuition\" on what is meant with a single trial pattern. "
   ]
  },
  {
   "cell_type": "markdown",
   "metadata": {},
   "source": [
    "<div class='alert alert-warning'>\n",
    "**If you have FSL installed on your computer, you can do this yourself!** open up a new terminal or terminal-tab and start fslview (by typing `fslview` in the terminal). Now, click \"File\" > \"Open\", navigate to `data/pi0070/wm.feat/stats` and select `tstat1.nii.gz`. Now, to visualize the patterns somewhat more intuitively, set in the fslview header \"Min\" to 0 and \"Max\" to 5. Then, click the little circle with the blue \"i\": <img src=\"img/viz.png\">\n",
    "<br>\n",
    "Under the \"lookup table options\", select the \"Red-Yellow\" colormap. What you visualize here are all the voxels that activate during this particular trial. However, a pattern is not necessarily only the voxels that *activate*, but also those that *deactivate*. A pattern is *any* estimated response of the brain during an instance of a sample (here: a trial). Therefore, let's also visualize the deactivating voxels. To do so, click \"File\" > \"Add\" and select the `tstat1.nii.gz` image *again*, but now set \"Min\" to 0 and \"Max\" to -5. For this file, select the colormap \"Blue-Lightblue\". \n",
    "\n",
    "What you should see now is something like this: <img src=\"img/screenshot_within.png\">\n",
    "\n",
    "<br>\n",
    "What we visualized here is an example of a within-subject pattern of a particular trial (\"sample\"), in which the activated voxels (relative to baseline) are colored red/yellow, and the deactivated voxels (relative to baseline) are colored blue/lightblue. Make sure you understand how this image represents the pattern of a single sample.\n",
    "</div>"
   ]
  },
  {
   "cell_type": "markdown",
   "metadata": {},
   "source": [
    "### 1.4. Data representation\n",
    "In pattern analyses, there is a specific way to 'store' and represent brain patterns: as 2D matrices of shape `N-samples` $\\times$ `K-voxels`. **Important**: often (and confusingly), people refer to voxels as (brain) 'features' in pattern analyses. So in articles people often refer to samples-by-features matrices!\n",
    "\n",
    "Anyway, this is what such a matrix looks like: \n",
    "<img src=\"img/data_representation.png\" alt=\"Drawing\" heigth=\"100\" width=\"500\">\n",
    "\n",
    "Each row thus represents the voxel pattern of a sample (here: trial)!"
   ]
  },
  {
   "cell_type": "markdown",
   "metadata": {},
   "source": [
    "#### From 3D patterns to a 2D matrix ...\n",
    "As you can see, the originally 3D voxel patterns (e.g. whole-brain patterns of *t*-values) are flattened (also called \"vectorized\" or \"raveled\") such that we can stack all patterns vertically into a 2D matrix. There are two reasons why pattern analyses need this 2D format and thus discard spatial information about the voxel patterns:\n",
    " \n",
    "1. There are very few analyses that take spatial information into account in the first place (so by flattening we get rid of the spatial information); \n",
    "2. Most algorithms used \"under the hood\" by pattern analyses rely heavily on matrix algebra (which operate on 2D matrices by definition).\n",
    "\n",
    "Anyway, let's look at an example. We're going to work with the working-memory data (as outline in the beginning of the notebook). Suppose we want to investigate whether we can predict whether a trial is passive or active (factor: working memory load) from (whole-brain) voxel patterns. Consequently, this is a **within-subject design**. As such, we model each trial separately by fitting a single-trial design matrix to obtain patterns of *t*-values per trial (similar to the plot just before Section **1.3**). The results are in the directory: `data/pi0070/wm.feat`. Check out the directory (again) and especially the stats-folder. You should see a bunch of nifti-files which contain 3D voxel patterns with \"tstat\" values (FSL also produces pes [betas], copes, varcopes - we removed these to minimize data size of this tutorial).\n",
    "\n",
    "For this analysis, we're going to use patterns of *t*-stats (as is generally recommended over $\\beta$s).<br>\n",
    "As you can see, there are 40 nifti-files with *t*-stats; these refer to the 40 trials in the experiment (32 active trials, 8 passive trials)! Given that we need to adhere to the data representation as outlined above, we are in the following situation:\n",
    "\n",
    "**What we have**: 40 (3D) nifti-files<br>\n",
    "**What we need**: one 2D numpy array of shape 40 x {whatever amount of voxels there are in those niftis}\n",
    "\n",
    "Alright, time to learn some Python gems that help us load in and transform those patterns into a usable 2D numpy matrix."
   ]
  },
  {
   "cell_type": "markdown",
   "metadata": {},
   "source": [
    "#### 1.4.1 tips & tricks to load and transform (nifti-)files\n",
    "As a first thing, we need to find all the paths to the *t*-stat nifti-files. Python has a nifty (pun intended) tool called \"`glob`\" which can find files/directories on disk using [wildcards](https://en.wikipedia.org/wiki/Wildcard_character). It is usually imported as follows:"
   ]
  },
  {
   "cell_type": "code",
   "execution_count": 9,
   "metadata": {
    "collapsed": true
   },
   "outputs": [],
   "source": [
    "from glob import glob"
   ]
  },
  {
   "cell_type": "markdown",
   "metadata": {},
   "source": [
    "`glob`, in Python, is a function that takes a path (as a string) with one or more wildcard characters (such as the `*`) and searches for files/directories on disk that match that. For example, let's try to find all the png-imagesin the \"img\" directory using glob (these are the images that I used inside this notebook). "
   ]
  },
  {
   "cell_type": "code",
   "execution_count": 10,
   "metadata": {},
   "outputs": [
    {
     "name": "stdout",
     "output_type": "stream",
     "text": [
      "['img/within_subject_example.png', 'img/WM_example.png', 'img/pattern_estimation.png', 'img/fslview.png', 'img/viz.png', 'img/sklearn_transformers.png', 'img/obj_class_diff.png', 'img/pipelinesX.png', 'img/screenshot_within.png', 'img/single_trial_design.png', 'img/data_representation.png']\n"
     ]
    }
   ],
   "source": [
    "import os\n",
    "# the images are in img/ on Linux/Mac systems, but in img\\ on Windows (hence the \"os.sep\" thingie)\n",
    "my_search_string = 'img' + os.sep + '*.png'\n",
    "png_files = glob(my_search_string)\n",
    "print(png_files)"
   ]
  },
  {
   "cell_type": "markdown",
   "metadata": {},
   "source": [
    "As you can see, it returns a list with all the files/directories that matched the search-string. Note that you can also search files outside of the current directory. To do so, we can simply specify the relative or absolute path to it."
   ]
  },
  {
   "cell_type": "markdown",
   "metadata": {},
   "source": [
    "<div class='alert alert-warning'>\n",
    "**ToDo**: Now you have the skills to actually \"glob\" all the *t*-stats from subject `pi0070` yourself! Use glob to find all the paths to the t-stats and store the results (a list with 40 strings) in a variable called `tstat_paths`. Note: the data directory is one directory above the current directory! Hint: watch out! There might be an `ftest.nii.gz` file in the stats-directory ...\n",
    "</div>"
   ]
  },
  {
   "cell_type": "code",
   "execution_count": 11,
   "metadata": {
    "collapsed": true
   },
   "outputs": [],
   "source": [
    "# Example answer\n",
    "tstat_paths = glob('../data/pi0070/wm.feat/stats/tstat*.nii.gz')"
   ]
  },
  {
   "cell_type": "code",
   "execution_count": 12,
   "metadata": {},
   "outputs": [
    {
     "name": "stdout",
     "output_type": "stream",
     "text": [
      "Well done! You globbed all the 40 tstat-files correctly!\n"
     ]
    }
   ],
   "source": [
    "# To check your answer, run this cell\n",
    "assert(len(tstat_paths) == 40)\n",
    "print(\"Well done! You globbed all the 40 tstat-files correctly!\")"
   ]
  },
  {
   "cell_type": "markdown",
   "metadata": {},
   "source": [
    "**Warning**: `glob` returns unsorted paths (so in seemingly random order). It's better if we sort the paths before loading them in, so the order of the paths is more intuitive (the first file is tstat1, the seconds tstat2, etc.). Python has a builtin function `sorted()`, which takes a list and sorts it alphabetically. The problem, here, is that if we'd use that - i.e. `sorted(tstat_paths)` - it will actually sort the files as: tstat1, tstat10, tstat11, etc. See for yourself: "
   ]
  },
  {
   "cell_type": "code",
   "execution_count": 13,
   "metadata": {},
   "outputs": [
    {
     "name": "stdout",
     "output_type": "stream",
     "text": [
      "['../data/pi0070/wm.feat/stats/tstat1.nii.gz', '../data/pi0070/wm.feat/stats/tstat10.nii.gz', '../data/pi0070/wm.feat/stats/tstat11.nii.gz', '../data/pi0070/wm.feat/stats/tstat12.nii.gz', '../data/pi0070/wm.feat/stats/tstat13.nii.gz', '../data/pi0070/wm.feat/stats/tstat14.nii.gz', '../data/pi0070/wm.feat/stats/tstat15.nii.gz', '../data/pi0070/wm.feat/stats/tstat16.nii.gz', '../data/pi0070/wm.feat/stats/tstat17.nii.gz', '../data/pi0070/wm.feat/stats/tstat18.nii.gz', '../data/pi0070/wm.feat/stats/tstat19.nii.gz', '../data/pi0070/wm.feat/stats/tstat2.nii.gz', '../data/pi0070/wm.feat/stats/tstat20.nii.gz', '../data/pi0070/wm.feat/stats/tstat21.nii.gz', '../data/pi0070/wm.feat/stats/tstat22.nii.gz', '../data/pi0070/wm.feat/stats/tstat23.nii.gz', '../data/pi0070/wm.feat/stats/tstat24.nii.gz', '../data/pi0070/wm.feat/stats/tstat25.nii.gz', '../data/pi0070/wm.feat/stats/tstat26.nii.gz', '../data/pi0070/wm.feat/stats/tstat27.nii.gz', '../data/pi0070/wm.feat/stats/tstat28.nii.gz', '../data/pi0070/wm.feat/stats/tstat29.nii.gz', '../data/pi0070/wm.feat/stats/tstat3.nii.gz', '../data/pi0070/wm.feat/stats/tstat30.nii.gz', '../data/pi0070/wm.feat/stats/tstat31.nii.gz', '../data/pi0070/wm.feat/stats/tstat32.nii.gz', '../data/pi0070/wm.feat/stats/tstat33.nii.gz', '../data/pi0070/wm.feat/stats/tstat34.nii.gz', '../data/pi0070/wm.feat/stats/tstat35.nii.gz', '../data/pi0070/wm.feat/stats/tstat36.nii.gz', '../data/pi0070/wm.feat/stats/tstat37.nii.gz', '../data/pi0070/wm.feat/stats/tstat38.nii.gz', '../data/pi0070/wm.feat/stats/tstat39.nii.gz', '../data/pi0070/wm.feat/stats/tstat4.nii.gz', '../data/pi0070/wm.feat/stats/tstat40.nii.gz', '../data/pi0070/wm.feat/stats/tstat5.nii.gz', '../data/pi0070/wm.feat/stats/tstat6.nii.gz', '../data/pi0070/wm.feat/stats/tstat7.nii.gz', '../data/pi0070/wm.feat/stats/tstat8.nii.gz', '../data/pi0070/wm.feat/stats/tstat9.nii.gz']\n"
     ]
    }
   ],
   "source": [
    "print(sorted(tstat_paths))"
   ]
  },
  {
   "cell_type": "markdown",
   "metadata": {},
   "source": [
    "To fix this issue, we wrote a little function (`sort_nifti_paths()`) that sorts the paths correctly. (If you're interested in how it works, check out the functions.py file.)"
   ]
  },
  {
   "cell_type": "code",
   "execution_count": 14,
   "metadata": {},
   "outputs": [
    {
     "name": "stdout",
     "output_type": "stream",
     "text": [
      "['../data/pi0070/wm.feat/stats/tstat1.nii.gz', '../data/pi0070/wm.feat/stats/tstat2.nii.gz', '../data/pi0070/wm.feat/stats/tstat3.nii.gz', '../data/pi0070/wm.feat/stats/tstat4.nii.gz', '../data/pi0070/wm.feat/stats/tstat5.nii.gz', '../data/pi0070/wm.feat/stats/tstat6.nii.gz', '../data/pi0070/wm.feat/stats/tstat7.nii.gz', '../data/pi0070/wm.feat/stats/tstat8.nii.gz', '../data/pi0070/wm.feat/stats/tstat9.nii.gz', '../data/pi0070/wm.feat/stats/tstat10.nii.gz', '../data/pi0070/wm.feat/stats/tstat11.nii.gz', '../data/pi0070/wm.feat/stats/tstat12.nii.gz', '../data/pi0070/wm.feat/stats/tstat13.nii.gz', '../data/pi0070/wm.feat/stats/tstat14.nii.gz', '../data/pi0070/wm.feat/stats/tstat15.nii.gz', '../data/pi0070/wm.feat/stats/tstat16.nii.gz', '../data/pi0070/wm.feat/stats/tstat17.nii.gz', '../data/pi0070/wm.feat/stats/tstat18.nii.gz', '../data/pi0070/wm.feat/stats/tstat19.nii.gz', '../data/pi0070/wm.feat/stats/tstat20.nii.gz', '../data/pi0070/wm.feat/stats/tstat21.nii.gz', '../data/pi0070/wm.feat/stats/tstat22.nii.gz', '../data/pi0070/wm.feat/stats/tstat23.nii.gz', '../data/pi0070/wm.feat/stats/tstat24.nii.gz', '../data/pi0070/wm.feat/stats/tstat25.nii.gz', '../data/pi0070/wm.feat/stats/tstat26.nii.gz', '../data/pi0070/wm.feat/stats/tstat27.nii.gz', '../data/pi0070/wm.feat/stats/tstat28.nii.gz', '../data/pi0070/wm.feat/stats/tstat29.nii.gz', '../data/pi0070/wm.feat/stats/tstat30.nii.gz', '../data/pi0070/wm.feat/stats/tstat31.nii.gz', '../data/pi0070/wm.feat/stats/tstat32.nii.gz', '../data/pi0070/wm.feat/stats/tstat33.nii.gz', '../data/pi0070/wm.feat/stats/tstat34.nii.gz', '../data/pi0070/wm.feat/stats/tstat35.nii.gz', '../data/pi0070/wm.feat/stats/tstat36.nii.gz', '../data/pi0070/wm.feat/stats/tstat37.nii.gz', '../data/pi0070/wm.feat/stats/tstat38.nii.gz', '../data/pi0070/wm.feat/stats/tstat39.nii.gz', '../data/pi0070/wm.feat/stats/tstat40.nii.gz']\n"
     ]
    }
   ],
   "source": [
    "# Let's fix it\n",
    "from functions import sort_nifti_paths\n",
    "tstat_paths = sort_nifti_paths(tstat_paths)\n",
    "print(tstat_paths)"
   ]
  },
  {
   "cell_type": "markdown",
   "metadata": {},
   "source": [
    "#### 1.4.2. Loading in nifti-data using nibabel"
   ]
  },
  {
   "cell_type": "markdown",
   "metadata": {},
   "source": [
    "Now, we have the paths to all the nifti-files of a single subject. To load a nifti-file into a numpy-array in Python, we can use the awesome [nibabel](http://nipy.org/nibabel) package. This package has two useful methods you can use to load your data: `load` and `get_data`. You need to use them consecutively to load the *t*-values in memory. For example, to load the whole-brain pattern of *t*-values of the first trial of subject pi0070:"
   ]
  },
  {
   "cell_type": "code",
   "execution_count": 15,
   "metadata": {
    "collapsed": true
   },
   "outputs": [],
   "source": [
    "import nibabel as nib\n",
    "data = nib.load('../data/pi0070/wm.feat/stats/tstat1.nii.gz').get_data()"
   ]
  },
  {
   "cell_type": "markdown",
   "metadata": {},
   "source": [
    "<div class='alert alert-warning'>\n",
    "**ToDo**: in the code block below, write a loop that loads in the tstat nifti-files one by one (using nibabel) and store them in the already preallocated array \"X\". Note that \"X\" is a 2D matrix (samples-by-features), but each tstat-file contains a 3D array, so you need to \"flatten\" the 3D array to a single vector: use e.g. the numpy function \"flatten()\" or \"ravel()\". \n",
    "</div>"
   ]
  },
  {
   "cell_type": "code",
   "execution_count": 16,
   "metadata": {
    "collapsed": true
   },
   "outputs": [],
   "source": [
    "voxel_dims = (80, 80, 37) # The data is in EPI-space\n",
    "X = np.zeros((len(tstat_paths), np.prod(voxel_dims)))\n",
    "\n",
    "# Example answer\n",
    "for trial, tstat_path in enumerate(tstat_paths):\n",
    "    data = nib.load(tstat_path).get_data()\n",
    "    data = data.ravel()\n",
    "    X[trial,:] = data"
   ]
  },
  {
   "cell_type": "markdown",
   "metadata": {},
   "source": [
    "#### Check your ToDo\n",
    "Run the cell below to see whether you implemented the ToDo below correctly. If you don't get errors, you did it correctly!"
   ]
  },
  {
   "cell_type": "code",
   "execution_count": 17,
   "metadata": {},
   "outputs": [
    {
     "name": "stdout",
     "output_type": "stream",
     "text": [
      "Well done!\n"
     ]
    }
   ],
   "source": [
    "# Can we check if X is correct here? Would be a good check before continuing to part 2\n",
    "np.testing.assert_almost_equal(X, np.load('example_data/X_section1.npz')['X'])\n",
    "print(\"Well done!\")"
   ]
  },
  {
   "cell_type": "markdown",
   "metadata": {},
   "source": [
    "#### Want to skip this ToDo?\n",
    "Run the cell below."
   ]
  },
  {
   "cell_type": "code",
   "execution_count": 18,
   "metadata": {
    "collapsed": true
   },
   "outputs": [],
   "source": [
    "X = np.load('example_data/X_section1.npz')['X']"
   ]
  },
  {
   "cell_type": "markdown",
   "metadata": {},
   "source": [
    "### You've reached a milestone!\n",
    "Starting with 4D fMRI data, you now have patterns in the right format (a 2D-matrix of N-samples x N-features). Now, let's start talking about machine learning!"
   ]
  },
  {
   "cell_type": "markdown",
   "metadata": {},
   "source": [
    "## Part 2. Multivoxel pattern analysis\n",
    "In Part 1, we discussed within-subject single-trial designs, and showed how to load single-trial data in the right format to perform MVPA. It's now time to actually implement machine learning analyses!\n",
    "\n",
    "We'll be looking at the implementation of concepts like K-fold cross-validation, feature-selection/extraction, model fitting/prediction, permutation testing, and feature visualization. To do so, we'll use the [`scikit-learn`](http://scikit-learn.org) machine learning package in Python (the de-facto and most-used ML package in Python).\n",
    "\n",
    "Remember that, very generally, MVPA is all about inferring a feature-of-interest (dependent variable) using patterns of fMRI data. Let's call the feature-of-interest **y**, and the patterns of fMRI data **X**. This inference from X to y is called *decoding*: we want to *decode* a dependent variable y from X.\n",
    "\n",
    "In our case, let's continue with the data from the working memory experiment used in Part 1. Remember that, in this experiment, participants performed two types of trials: \"ACTIVE\" trials, in which they had to remember the orientation of eight bars, and \"PASSIVE\" trials in which they did not do anything (note that the screen shortly flickered in the \"PASSIVE\" trials in order to activate the visual cortex). Let's try to decode trial type from the patterns of *t*-values you creates in Part 1!"
   ]
  },
  {
   "cell_type": "markdown",
   "metadata": {},
   "source": [
    "### 2.1 Adding the dependent variable y\n",
    "In Section 1.3, you ended with a nice 2D-matrix of N-samples x N-features. This 2D-matrix contains all whole-brain patterns of *t*-values for all trials: this is your **X**. However, this leaves out a crucial part of the data: the actual feature-of-interest, *trial type*, your **y**.\n",
    "\n",
    "While there is kind of a generic way to load in voxel patterns, there is usually not a single way to load in your dependent variable (y), because the exact factor that represents `y` dependent on your exact research question (and also depends how you have stored this data on disk). \n",
    "\n",
    "In within-subject single-trial designs, trial type or condition is often the dependent variable. The dependent variable can thus be extracted from your design. In fact, we already loaded the dependent variable previously, in the `onsets` variable (see Section 1.2). The third column named 'trial_type') contains the trial types, where 1 is an \"ACTIVE\" trial and 0 a \"PASSIVE\" trial."
   ]
  },
  {
   "cell_type": "markdown",
   "metadata": {},
   "source": [
    "<div class='alert alert-warning'>\n",
    "**ToDo**: Extract vector *y* from `onsets`, which only contains the trial types (i.e., y = [1, 1, 1, 0, ..., 0, 1, 1]) \n",
    "</div>"
   ]
  },
  {
   "cell_type": "code",
   "execution_count": 20,
   "metadata": {},
   "outputs": [],
   "source": [
    "y = stim_info['trial_type'].values"
   ]
  },
  {
   "cell_type": "markdown",
   "metadata": {},
   "source": [
    "#### Check your answer"
   ]
  },
  {
   "cell_type": "code",
   "execution_count": 21,
   "metadata": {},
   "outputs": [
    {
     "name": "stdout",
     "output_type": "stream",
     "text": [
      "Well done!\n"
     ]
    }
   ],
   "source": [
    "np.testing.assert_equal(np.array(y), np.load('example_data/y.npy'))\n",
    "print('Well done!')"
   ]
  },
  {
   "cell_type": "markdown",
   "metadata": {},
   "source": [
    "#### Run the cell below if you want to skip this ToDo"
   ]
  },
  {
   "cell_type": "code",
   "execution_count": 22,
   "metadata": {
    "collapsed": true
   },
   "outputs": [],
   "source": [
    "y = np.load('example_data/y.npy')"
   ]
  },
  {
   "cell_type": "markdown",
   "metadata": {},
   "source": [
    "## Commercial\\* break: skbold\n",
    "While it's still relatively easy to load in, structure, and preprocess all of the data necessary for pattern-based analyses, there's quite a lot of \"boilerplate code\", especially when you need to loop your analysis across multiple participants. At least, that's what we thought and motivated us to create [skbold](skbold.readthedocs.io), a (Python-based) package that offers a set of tools to make machine learning analyses of fMRI data easier. As shown in the figure below, skbold complements the scikit-learn package by offering functionality specific to fMRI-data at different stages of your machine learning pipeline. For example, reading in single-trial estimates and corresponding labels (\"y\") only takes about 5 lines of Python code using skbold. To avoid distracting you from this tutorial, we included a section on how to use skbold at the very end of this tutorial. Check it out if you are interested!\n",
    "\n",
    "<img src=\"img/skbold_scope.png\" alt=\"Drawing\" heigth=\"50\" width=\"1000\">\n",
    "\n",
    "\n",
    "---\n",
    "**\\*** Skbold is, of course, not really commercial! It's fully open source (BSD-3 licensed) and can be easily installed with pip (`pip install skbold`)!"
   ]
  },
  {
   "cell_type": "markdown",
   "metadata": {},
   "source": [
    "### 2.2. An overview of a typical machine learning pipeline\n",
    "Awesome, we now have everything we need (X and y). This took a while, but you'll soon see it was worth the effort.\n",
    "\n",
    "In the rest of the tutorial, you'll finally learn how to actually implement decoding pipelines. Typical pipelines consist of the following elements:\n",
    "\n",
    "* Data preprocessing (scaling)\n",
    "* Data partitioning\n",
    "* Feature selection/extraction\n",
    "* Model fitting (on train-set)\n",
    "* Model cross-validation (on test-set)\n",
    "* Calculate model performance\n",
    "* Statistical analyses of performance\n",
    "* Optional: feature visualization (not discussed in this workshop)\n",
    "\n",
    "In the rest of the tutorial, we'll discuss these topics in a slightly different order. First, we'll discuss how you can preprocess, fit, and cross-validate scikit-learn models, and while we're at it, how to calculate model performance. Subsequently, you'll learn how to embed these concepts in fully cross-validated K-fold data partitioning schemes. Finally, we'll extend our pipelines with feature selection methods and (optionally) show you how to use scikit-learn `Pipelines`. "
   ]
  },
  {
   "cell_type": "markdown",
   "metadata": {},
   "source": [
    "### 2.3. Pattern preprocessing (scaling)\n",
    "Before any machine learning analysis, is it advised to preprocess your pattern such that each feature (here: voxel) is on the same scale across samples (here: trials). This \"feature scaling\" process can be done in various ways, but the most often used method is *standardization*: scaling features such that they have 0 mean and unit variance across samples. Feature scaling is important for many machine learning algorithms in the training process and omitting scaling may yield sub-optimal results.\n",
    "\n",
    "Scikit-learn provides a class, [StandardScaler](http://scikit-learn.org/stable/modules/generated/sklearn.preprocessing.StandardScaler.html), that implements feature standardization. We'll apply it to our entire dataset (`X`) here, but in a later section we'll explain that - strictly speaking - it's best to \"cross-validate\" this preprocessing step.\n",
    "\n",
    "Anyway, let's see how standardization is done using scikit-learn (in section 2.8. we'll explain this scikit-learn object's API in more detail):"
   ]
  },
  {
   "cell_type": "code",
   "execution_count": null,
   "metadata": {
    "collapsed": true
   },
   "outputs": [],
   "source": [
    "from sklearn.preprocessing import StandardScaler\n",
    "scaler = StandardScaler() # Here we initialize the StandardScaler object\n",
    "scaler.fit(X)             # Here we \"fit\" the StandardScaler to our entire dataset (i.e. calculates means and stds of each feature)\n",
    "X = scaler.transform(X)   # And here we transform the dataset using the calculated means/stds"
   ]
  },
  {
   "cell_type": "markdown",
   "metadata": {},
   "source": [
    "Did the scaling procedure work? Let's check that below (by asserting that the mean of each column is 0, and the std of each column is 1):"
   ]
  },
  {
   "cell_type": "code",
   "execution_count": null,
   "metadata": {},
   "outputs": [],
   "source": [
    "means = np.mean(X, axis=0)\n",
    "np.testing.assert_almost_equal(means, np.zeros(X.shape[1]))\n",
    "print(\"Each column (feature) has mean 0!\")\n",
    "stds = X.std(axis=0)\n",
    "np.testing.assert_almost_equal(stds[stds != 0], np.ones((stds != 0).sum()))\n",
    "print(\"Each column (feature) has std 1!\")b"
   ]
  },
  {
   "cell_type": "markdown",
   "metadata": {},
   "source": [
    "Sweet! We correctly preprocessed out patterns. Now it's time for the more interesting stuff."
   ]
  },
  {
   "cell_type": "markdown",
   "metadata": {},
   "source": [
    "### 2.4. Model fitting & cross-validation\n",
    "First, we'll show you how to use scikit-learn models and associated functionality. In fact, the most useful functionality of scikit-learn is probably that they made fitting and cross-validating models (or, in scikit-learn lingo: estimators) trivially easy. \n",
    "\n",
    "Note that in the upcoming example, we will fit the model on *all* our samples for the sake of the example. In practice, this is something you would **never** do: you always need to cross-validate your model to a new, independent sample.**\\*** \n",
    "\n",
    "----\n",
    "**\\*** That is, independent with respect to noise: the noise in your *training* sample should not be correlated with the noise in your *test* set)."
   ]
  },
  {
   "cell_type": "markdown",
   "metadata": {},
   "source": [
    "Anyway, let's import a scikit-learn model: the (linear) support vector classifier ([SVC](http://scikit-learn.org/stable/modules/generated/sklearn.svm.SVC.html)), which is one of the most-often used models in fMRI pattern analyses. In scikit-learn, this model is part of the (suprising...) `svm` module:"
   ]
  },
  {
   "cell_type": "code",
   "execution_count": null,
   "metadata": {
    "collapsed": true
   },
   "outputs": [],
   "source": [
    "# Scikit-learn is always imported as 'sklearn'\n",
    "from sklearn.svm import SVC"
   ]
  },
  {
   "cell_type": "markdown",
   "metadata": {},
   "source": [
    "Like most of scikit-learn's functionality, SVC is a *class*. Let's initialize an SVC-object! One important argument that this object needs is the [\"kernel\"](http://scikit-learn.org/stable/auto_examples/svm/plot_svm_kernels.html) you want the model to have. Basically, the kernel determines how to treat/process your features: linearly, or non-linearly (such as the `kernel='rbf'` or `kernel='poly'` options). Most often a linear kernel is the best option (as non-linear kernels seem to overfit very quickly).\n",
    "\n",
    "To initialize an SVC-object with a linear kernel, just do as follows:"
   ]
  },
  {
   "cell_type": "code",
   "execution_count": null,
   "metadata": {
    "collapsed": true
   },
   "outputs": [],
   "source": [
    "# clf = CLassiFier\n",
    "clf = SVC(kernel='linear')"
   ]
  },
  {
   "cell_type": "markdown",
   "metadata": {},
   "source": [
    "Alright, we initialized an SVC-object (named `clf`) with a linear kernel. Now, you need to do two thing to get the prediction for each sample (i.e. whether they're predicted as 0 or 1): fit, using the method `fit(X, y)`, and predict the class (i.e. 0 or 1) for each class using the method `predict(X)`. Basically, in the `fit` method, the parameters of the model (i.e. $\\beta$) are estimated. Then, in the `predict` method, the estimated parameters are used to generate a prediction for each sample (i.e. 0 or 1). \n",
    "\n",
    "Let's first look at the `fit` method. As you can see, the `fit(X, y)` method with two parameters: X (a samples-by-features matrix) and y (a vector of length n-samples). Let's do that for our data: "
   ]
  },
  {
   "cell_type": "code",
   "execution_count": null,
   "metadata": {},
   "outputs": [],
   "source": [
    "print('Fitting SVC ...', end='')\n",
    "clf.fit(X, y)\n",
    "print(' done.')"
   ]
  },
  {
   "cell_type": "markdown",
   "metadata": {},
   "source": [
    "After calling the fit() method, the clf-object contains an attribute `coef_` that represent the model's parameters ('coefficients' in scikit-learn lingo, i.e. $\\beta$). Let's check that out:"
   ]
  },
  {
   "cell_type": "code",
   "execution_count": null,
   "metadata": {},
   "outputs": [],
   "source": [
    "coefs = clf.coef_\n",
    "print(\"Shape of coefficients: %r\" % (coefs.shape,))"
   ]
  },
  {
   "cell_type": "markdown",
   "metadata": {},
   "source": [
    "Ah, just like we expected: the `coef_` attribute is exactly the same size as the number of voxels in our X-matrix (i.e. 80\\*80\\*37). \n",
    "\n",
    "Anyway, usually, you don't have to do anything directly with the weights (perhaps only if you want to do anything with feature visualization). Scikit-learn handles the calculation of the prediction (let's call that $\\hat{y}$) using the trained weights. To get the prediction of any sample, just call the `predict(X)` method of the model, which returns the predictions as an array:"
   ]
  },
  {
   "cell_type": "code",
   "execution_count": null,
   "metadata": {},
   "outputs": [],
   "source": [
    "y_hat = clf.predict(X)\n",
    "print(\"The predictions for my samples are:\\n %r\" % y_hat.tolist())"
   ]
  },
  {
   "cell_type": "markdown",
   "metadata": {},
   "source": [
    "<div class='alert alert-warning'>\n",
    "**ToDo**: The cool thing about scikit-learn is that their objects have a very consistent API and have sensible defaults. As a consequence, *every* model (\"estimator\" in scikit-learn terms) is used in the same way using the `fit(X, y)` and `predict(X)` methods. Try it out yourself below!<br><br> Try using the [LinearDiscriminantAnalysis](http://scikit-learn.org/stable/modules/generated/sklearn.discriminant_analysis.LinearDiscriminantAnalysis.html#sklearn.discriminant_analysis.LinearDiscriminantAnalysis) class (`from sklearn.discriminant_analysis import LinearDiscriminantAnalysis`) or [GaussianNB](http://scikit-learn.org/stable/modules/generated/sklearn.naive_bayes.GaussianNB.html#sklearn.naive_bayes.GaussianNB) (\"Naive Bayes\" classifier; `from sklearn.naive_bayes import GaussianNB`) for example (or any other!). All methods should work exactly the same as the previous example using the SVM.\n",
    "</div>"
   ]
  },
  {
   "cell_type": "code",
   "execution_count": null,
   "metadata": {},
   "outputs": [],
   "source": [
    "# Try out different estimators below (call fit and predict on X and y!)\n"
   ]
  },
  {
   "cell_type": "markdown",
   "metadata": {},
   "source": [
    "### 2.5. Model evaluation\n",
    "A logical next step is to assess how good the model was in predicting the class of the samples. A straightforward metric to summarize performance is *accuracy* **\\*** which can be defined as: \n",
    "\n",
    "\\begin{align}\n",
    "accuracy = \\frac{number\\ of\\ correct\\ predictions}{number\\ of\\ predictions}\n",
    "\\end{align}\n",
    "\n",
    "---------------\n",
    "**\\*** There are waaaay [more metrics to summarize model performance](http://machinelearningmastery.com/classification-accuracy-is-not-enough-more-performance-measures-you-can-use/) for classification models, such as precision, recall, F1-score, and ROC-AUC. These metrics are more appropriate than accuracy when you have *imbalanced classes*, i.e. more samples in one class (e.g. negative images) than in another class (e.g. positive images), like we have here (i.e. 32 active, 8 passive trials). We'll revisit this issue in the next (optional) section."
   ]
  },
  {
   "cell_type": "markdown",
   "metadata": {},
   "source": [
    "<div class='alert alert-warning'>\n",
    "**ToDo**: Can you calculate the accuracy of the above model? Hint 1: you need to compare the true labels (i.e. y) with the predicted labels (i.e. y_hat). Hint 2: if you do arithmetic with boolean values (i.e. `True` and `False`), `True` is interpreted as 1 and `False` is interpreted as 0.\n",
    "</div>"
   ]
  },
  {
   "cell_type": "code",
   "execution_count": null,
   "metadata": {},
   "outputs": [],
   "source": [
    "# Implement your to-do here!\n",
    "accuracy = (y_hat==y).mean()\n",
    "print(accuracy)"
   ]
  },
  {
   "cell_type": "markdown",
   "metadata": {},
   "source": [
    "If you've done the ToDo above correctly, you should have found out that the accuracy was 1.0 - a perfect score! \"Awesome! Nature Neuroscience material!\", you might think. But, as is almost always the case: if it's too good to be true, it probably *is* indeed too good to be true.\n",
    "\n",
    "So, what is the issue here? \n",
    "\n",
    "Well, we didn't cross-validate the model! We fitted it on all the samples in the mvp-object and predicted the *same* samples, which leads to optimistic estimate of model performance. Such optimistic estimates in uncross-validated models are especially likely when there are many more features (here: voxels) than samples (here: trials). In other words, we are probably *overfitting* the model here.\n",
    "\n",
    "Thus, let's check what happens if we actually cross-validate the model. To do so, we need to partition the data into a train- and test-set. For this example, we'll use a simple hold-out scheme, in which we'll reserve half of the data for the test-set (we'll discuss more intricate cross-validation schemes such as K-fold in the next section).\n",
    "\n",
    "To partition our data in a 50/50 split (50% for train, 50% for test), we'll use the scikit-learn function [train_test_split](http://scikit-learn.org/stable/modules/generated/sklearn.model_selection.train_test_split.html):"
   ]
  },
  {
   "cell_type": "code",
   "execution_count": null,
   "metadata": {},
   "outputs": [],
   "source": [
    "from sklearn.model_selection import train_test_split\n",
    "\n",
    "if not isinstance(y, np.ndarray):\n",
    "    y = np.array(y)\n",
    "\n",
    "# The argument \"test_size\" indicates the test-size as a proportion\n",
    "X_train, X_test, y_train, y_test = train_test_split(X, y, test_size=0.5, stratify=y)\n",
    "    \n",
    "print(\"Shape X_train: %r\" % (X_train.shape,))\n",
    "print(\"Shape y_train: %r\" % (y_train.shape,))\n",
    "print(\"Shape X_test: %r\" % (X_test.shape,))\n",
    "print(\"Shape y_test: %r\" % (y_test.shape,))"
   ]
  },
  {
   "cell_type": "markdown",
   "metadata": {},
   "source": [
    "As you can see, the `train_test_split` function nicely partitions our data in two sets, a train- and test-set. Note the argument `stratify` in the function, which is set to `True`, which ensures that the class proportion (here: ratio of \"active\" trials to \"passive\" trials) is the same for the train-set as the test-set."
   ]
  },
  {
   "cell_type": "markdown",
   "metadata": {},
   "source": [
    "<div class='alert alert-warning'>\n",
    "**ToDo**: To convince yourself that the `stratify` option does what it supposed to do, check whether the class-ratio is the same for the train and test-set. \n",
    "</div>"
   ]
  },
  {
   "cell_type": "code",
   "execution_count": null,
   "metadata": {
    "collapsed": true
   },
   "outputs": [],
   "source": [
    "# Implement the ToDo here"
   ]
  },
  {
   "cell_type": "markdown",
   "metadata": {},
   "source": [
    "Now it's up to you to actually implement the *cross-validated* equivalent of the fit/predict procedure we showed you before, in the next ToDo!"
   ]
  },
  {
   "cell_type": "markdown",
   "metadata": {},
   "source": [
    "<div class='alert alert-warning'>\n",
    "**ToDo**: Fit your model on `X_train` and `y_train` and then predict `X_test`. Calculate both the accuracy on the train-set (fit and predict on train) *and* the cross-validated accuracy (fit on train, predict on test).\n",
    "</div>"
   ]
  },
  {
   "cell_type": "code",
   "execution_count": null,
   "metadata": {},
   "outputs": [],
   "source": [
    "# Implement your ToDo here\n",
    "\n",
    "# Example answer\n",
    "clf.fit(X=X_train, y=y_train)\n",
    "y_hat_train = clf.predict(X=X_train)\n",
    "y_hat_test = clf.predict(X=X_test)\n",
    "print((y_hat_train == y_train).mean())\n",
    "print((y_hat_test == y_test).mean())"
   ]
  },
  {
   "cell_type": "markdown",
   "metadata": {},
   "source": [
    "If you implemented the ToDo correctly, you should see that the test-set accuracy is slightly lower than the train-set accuracy! This test-set accuracy is still slightly biased due to imbalanced classes, which is discussed in the next section."
   ]
  },
  {
   "cell_type": "markdown",
   "metadata": {},
   "source": [
    "### Advanced: evaluation of imbalanced datasets/models (optional, but recommended)\n",
    "As hinted at before, one problem with our dataset is that it is *imbalanced*. That is, the amount of samples are imbalanced between classes, because we have 32 samples in the \"active\" class and only 8 samples in the \"passive\" class. \n",
    "\n",
    "\"Why is that a problem?\", you might ask?\n",
    "\n",
    "Well, suppose that our classifier \"learns\" to predict every sample as \"active\", regardless of the underlying patterns. In that scenario, it will still achieve an accuracy of:\n",
    "\n",
    "\\begin{align}\n",
    "accuracy = \\frac{32}{40} = 0.8\n",
    "\\end{align}\n",
    "\n",
    "While 0.8 may seem like a great classification score, in this case it may just be due to our class imbalance! Therefore, imbalanced datasets therefore need a different evaluation metric than accuracy. Fortunately, scikit-learn has many more performance metrics you can use, including metrics that \"correct\" for the (potential) bias due to class imbalance (including [f1-score](http://scikit-learn.org/stable/modules/generated/sklearn.metrics.f1_score.html#sklearn.metrics.f1_score), [AUC-score](http://scikit-learn.org/stable/modules/generated/sklearn.metrics.roc_auc_score.html#sklearn.metrics.roc_auc_score), and [Cohen's Kappa](http://scikit-learn.org/stable/modules/generated/sklearn.metrics.cohen_kappa_score.html#sklearn.metrics.cohen_kappa_score)). \n",
    "\n",
    "Another way to \"correct\" for imbalanced datasets is to either **undersample** your majority class(es) to match the amount of samples in the minority class or to **oversample** the minority class(es) to match the amount of samples in the majority class. Unlike using \"class-imbalance-aware\" metrics, which deals with the issue *post-hoc*, under/oversampling actually forces your model to learn on a balanced dataset (which is, in our experience, the most sensitive strategy). \n",
    "\n",
    "As the over/undersampling methods are slightly beyond the scope of this tutorial (but check out [this library](http://contrib.scikit-learn.org/imbalanced-learn/index.html) for implementations of different methods to deal with imbalanced datasets), let's check out what happens with our performance estimate if we use a different ('class-imbalance-aware') metric, like the \"ROC-AUC-curve\". Like all metrics, this function can be imported from the `sklearn.metrics` module. Any scikit-learn metric function is called using the following format:\n",
    "\n",
    "```\n",
    "performance = some_metric(y_true, y_predicted)\n",
    "```"
   ]
  },
  {
   "cell_type": "markdown",
   "metadata": {},
   "source": [
    "<div class='alert alert-warning'>\n",
    "**ToDo**: Evaluate the model from the previous ToDo with the ROC-AUC-curve metric instead of accuracy. Check both the performance on the train-set (which should still be 1.0) and the (cross-validated) performance on the test-set.\n",
    "Notice the drop in performance compared to using accuracy!\n",
    "</div>"
   ]
  },
  {
   "cell_type": "code",
   "execution_count": null,
   "metadata": {},
   "outputs": [],
   "source": [
    "# The roc-auc-curve function is imported as follows:\n",
    "from sklearn.metrics import roc_auc_score\n",
    "\n",
    "# Implement your ToDo here\n",
    "clf.fit(X=X_train, y=y_train)\n",
    "y_hat_train = clf.predict(X=X_train)\n",
    "y_hat_test = clf.predict(X=X_test)\n",
    "print(roc_auc_score(y_test, y_hat_test))"
   ]
  },
  {
   "cell_type": "markdown",
   "metadata": {},
   "source": [
    "It's, of course, always best to avoid imbalance in the first place, but sometimes this is unavoidable, for example when decoding subjects' responses (which are not under control of the experimenter). But *if* you have imbalanced classes, make sure to deal with it appropriately!"
   ]
  },
  {
   "cell_type": "markdown",
   "metadata": {},
   "source": [
    "### Recap\n",
    "Sweet! You actually performed your first proper decoding analysis in this section! There are however a couple of things we can do to improve the efficiency and results of our analysis. One thing we can do is to use the data more efficiently in cross-validation. In the previous example, we split the data into two sets and fit the model on one (the train-set) and cross-validated to the other (the test-set). There is actually a way to \"re-use\" the data by using K-fold cross-validation, in which data is iteratively partitioned in train- and test-sets. This is explained in the next section."
   ]
  },
  {
   "cell_type": "markdown",
   "metadata": {},
   "source": [
    "### 2.7. Data partitioning: K-fold cross-validation\n",
    "There are two major ways of cross-validation: \n",
    "\n",
    "* Hold-out cross-validation;\n",
    "* K-fold cross-validation;\n",
    "\n",
    "In the previous section we implemented a form of hold-out cross-validation, which can be seen as a kind of \"one-shot cross-validation\". In fMRI data-sets, however, we usually have few samples (simply because MRI-data is expensive to acquire!). Because K-fold cross-validation allows you to reuse the data, it is much more common than hold-out cross-validation in MRI studies.\n",
    "\n",
    "Now, we can finally use some of scikit-learn's functionality. We are going to use the [StratifiedKFold](http://scikit-learn.org/stable/modules/generated/sklearn.model_selection.StratifiedKFold.html) class from scikit-learn's model_selection module. Click the highlighted link above and read through the manual to see how it works.\n",
    "\n",
    "Importantly, if you're dealing with a classification analysis, always use *Stratified*KFold (instead of the regular [KFold](http://scikit-learn.org/stable/modules/generated/sklearn.model_selection.KFold.html)), because this version makes sure that each fold contains the same proportion of the different classes (here: 0 and 1; just like we did with `train_test_split` when we set `stratified=True`). \n",
    "\n",
    "Anyway, enough talking. Let's initialize a StratifiedKFold object with 5 folds:"
   ]
  },
  {
   "cell_type": "code",
   "execution_count": null,
   "metadata": {
    "collapsed": true
   },
   "outputs": [],
   "source": [
    "# scikit-learn is imported as 'sklearn'\n",
    "from sklearn.model_selection import StratifiedKFold\n",
    "\n",
    "# They call folds 'splits' in scikit-learn\n",
    "skf = StratifiedKFold(n_splits=5)"
   ]
  },
  {
   "cell_type": "markdown",
   "metadata": {},
   "source": [
    "Alright, we have a StratifiedKFold object now, but not yet any indices for our folds (i.e. indices to split X and y into different samples). To do that, we need to call the `split(X, y)` method:"
   ]
  },
  {
   "cell_type": "code",
   "execution_count": null,
   "metadata": {
    "collapsed": true
   },
   "outputs": [],
   "source": [
    "folds = skf.split(X, y)"
   ]
  },
  {
   "cell_type": "markdown",
   "metadata": {},
   "source": [
    "Now, we created the variable `folds` which is officially a [generator](https://wiki.python.org/moin/Generators) object, but just think of it as a type of list (with indices) which is specialized for looping over it. Each entry in `folds` is a tuple with two elements: an array with train-indices and an array with test-indices. Let's demonstrate that\\*:\n",
    "\n",
    "-------------\n",
    "\\* Note that you can only run the cell below once. After running it, the `folds` generator object is \"exhausted\", and you'll need to call `skf.split(X, y)` again in the above cell."
   ]
  },
  {
   "cell_type": "code",
   "execution_count": null,
   "metadata": {},
   "outputs": [],
   "source": [
    "# Notice how we \"unpack\" the train- and test-indices at the start of the loop\n",
    "i = 1\n",
    "for train_idx, test_idx in folds:\n",
    "    \n",
    "    print(\"Processing fold %i\" % i)\n",
    "    print(\"Train-indices: %s\" % train_idx)\n",
    "    print(\"Test-indices: %s\\n\" % test_idx)\n",
    "    \n",
    "    i += 1"
   ]
  },
  {
   "cell_type": "markdown",
   "metadata": {},
   "source": [
    "As you can see, StratifiedKFold determined that for the first fold, sample \n",
    "1 to 9 should be used for training and sample 0, 1, 2, 3, 4, 5, 6, 7, and 13 should be used for testing (remember, Python uses 0-based indexing!) and the rest for training. \n",
    "\n",
    "Now, we know how to access the train- and test-indices, but we haven't *actually* indexed our X and y (i.e. mvp.X and mvp.y) in the for-loop over folds. Nor have we actually fit the model on the train-set and cross-validated this to the test-set."
   ]
  },
  {
   "cell_type": "markdown",
   "metadata": {},
   "source": [
    "<div class='alert alert-warning'>\n",
    "**ToDo**: in the code-cell below, complete the statements by indexing X and y to create four different objects in every fold: X_train, y_train, X_test, y_test. Also, we created a new classifier-object (clf) for you based on a different model: scikit-learn's `LogisticRegression` to show you that *every* model in scikit-learn works the same (i.e. has the same `fit` and `predict` methods). <br><br>\n",
    "\n",
    "Use this classifier to fit on the train-set and predict the test-set in every fold. Then, calculate the (cross-validated) performance (e.g. ROC-AUC-score) in every fold. Keep track of the accuracies across folds, and after the loop over folds, calculate the average performance across folds.\n",
    "</div>"
   ]
  },
  {
   "cell_type": "code",
   "execution_count": null,
   "metadata": {
    "scrolled": true
   },
   "outputs": [],
   "source": [
    "from sklearn.linear_model import LogisticRegression\n",
    "\n",
    "# clf now is a logistic regression model\n",
    "clf = LogisticRegression()\n",
    "# run split() again to generate folds\n",
    "folds = skf.split(X, y)\n",
    "\n",
    "accuracy = []\n",
    "\n",
    "for train_idx, test_idx in folds:\n",
    "    \n",
    "    # Complete these statements by indexing X and y with train_idx and test_idx\n",
    "    X_train = \n",
    "    y_train = \n",
    "    \n",
    "    X_test = \n",
    "    y_test = \n",
    "    \n",
    "    # ToDo: call fit (on train) and predict (on test)\n",
    "    \n",
    "    # ToDo: calculate roc-auc-score (or accuracy, but that's biased ...)\n",
    "\n",
    "# ToDo: calculate average performance\n"
   ]
  },
  {
   "cell_type": "code",
   "execution_count": null,
   "metadata": {},
   "outputs": [],
   "source": [
    "# EXAMPLE ANSWER\n",
    "from sklearn.linear_model import LogisticRegression\n",
    "\n",
    "# clf now is a logistic regression model\n",
    "clf = LogisticRegression()\n",
    "# run split() again to generate folds\n",
    "folds = skf.split(X, y)\n",
    "\n",
    "accuracy = []\n",
    "\n",
    "for fold in folds:\n",
    "    \n",
    "    # This is a slightly more concise way to unpack tuples\n",
    "    train_idx, test_idx = fold\n",
    "    \n",
    "    # Complete these statements by indexing X and y with train_idx and test_idx\n",
    "    X_train = X[train_idx,:]\n",
    "    y_train = y[train_idx]\n",
    "    \n",
    "    X_test = X[test_idx,:]\n",
    "    y_test = y[test_idx]\n",
    "    \n",
    "    # ToDo: call fit (on train) and predict (on test)\n",
    "    model = clf.fit(X=X_train, y=y_train)\n",
    "    y_hat = model.predict(X=X_test)\n",
    "    \n",
    "    # ToDo: calculate accuracy\n",
    "    accuracy.append(roc_auc_score(y_test, y_hat))\n",
    "\n",
    "# ToDo: calculate average accuracy\n",
    "print('Mean accuracy: %.3f' % np.mean(accuracy))"
   ]
  },
  {
   "cell_type": "markdown",
   "metadata": {},
   "source": [
    "Implementing K-fold cross-validation instead of hold-out cross-validation allowed us to make our analysis a little more efficient (by reusing samples). Another method that (usually) improves performance in decoding analyses is feature selection/extraction, which is discussed in the next section (after the optional run-wise decoding section)."
   ]
  },
  {
   "cell_type": "markdown",
   "metadata": {},
   "source": [
    "### Advanced: run-wise decoding (optional)\n",
    "Contrary to our example data-set which decoding single trials within a **single** fMRI run, it is recommended to spread out your samples across **different** fMRI runs and perform *run-wise cross-validation*. This type of cross-validation basically partitions your samples according to their run; one example, referred to as \"leave-one-run-out\" cross-validation, partitions your data such that you always train on trials from all runs minus one, and use the left-out run for testing. A nice property of this type of cross-validation is that it effectively avoids the problem of autocorrelated samples (which is highly likely in fMRI, especially if the ISI is short!). While the samples within each run are still autocorrelated, run-wise-cv makes sure that cross-validation is performed on samples from an *independent run*, thus dealing with bias due to autocorrelation.\n",
    "\n",
    "Anyway, let's look at an example. Since we don't have a real fMRI dataset with different runs, we're just going to simulate some data. Suppose we have four fMRI runs, each with 20 trials, of which 10 of class \"A\" (coded with 0) and 10 of class \"B\" (coded with 1), and each sample is associated with a pattern of a 1000 voxels (let's say the activity pattern in the bilateral amygdala). So, in total we have 80 trials, 40 per class, spread out over 4 runs:"
   ]
  },
  {
   "cell_type": "code",
   "execution_count": null,
   "metadata": {},
   "outputs": [],
   "source": [
    "X_r = np.random.randn(80, 1000)\n",
    "print(\"Shape of X: %s\" % (X_r.shape, ), '\\n')\n",
    "\n",
    "y_r = np.tile([0, 1], 40)\n",
    "print(\"Shape of y: %s\" % (y_r.shape, ))\n",
    "print(\"Y labels:\\n%r\" % y_r.tolist(), '\\n')\n",
    "runs = np.repeat([1, 2, 3, 4], 20)\n",
    "print(\"Shape of runs: %s\" % (runs.shape, ))\n",
    "print(\"Run-indices: \\n%r\" % runs.tolist())"
   ]
  },
  {
   "cell_type": "markdown",
   "metadata": {},
   "source": [
    "Now, scikit-learn offers a nice cross-validation object that partitions your data according to a \"grouping\" variable: `GroupKFold`, or variations thereof like `LeaveOneGroupOut` of `LeavePGroupsOut`. Let's check out how that can be used using our simulated data:"
   ]
  },
  {
   "cell_type": "code",
   "execution_count": null,
   "metadata": {},
   "outputs": [],
   "source": [
    "# Import from model_selection module\n",
    "from sklearn.model_selection import GroupKFold\n",
    "\n",
    "# In fact, when we initialize GroupKFold with 4 splits, as below, it is exactly the same as\n",
    "# the LeaveOneGroupOut cross-validator, since we only have 4 groups\n",
    "gkf = GroupKFold(n_splits=4)\n",
    "for train_idx, test_idx in gkf.split(X=X_r, y=y_r, groups=runs):\n",
    "    \n",
    "    print(\"Indices of our test-samples: %r\" % test_idx.tolist())\n",
    "    print(\"... which correspond to following runs: %r\" % runs[test_idx].tolist(), '\\n')"
   ]
  },
  {
   "cell_type": "markdown",
   "metadata": {},
   "source": [
    "As you can see in the example above, the `GroupKFold` cross-validator effectively partionioned our data such that in every fold one group was left out for testing (group 4 in the first fold, group 3 in the second fold, etc.)! So keep in mind to use this type of cross-validation object when you want to employ such a run-wise-cross-validation routine (which is recommended anyway!). "
   ]
  },
  {
   "cell_type": "markdown",
   "metadata": {},
   "source": [
    "<div class='alert alert-info'>\n",
    "**ToThink**: While stratification can be ensured by using e.g. `StratifiedKFold` cross-validators, stratification cannot be guaranteed when using `GroupKFold`. Why do you think this is the case? \n",
    "</div>"
   ]
  },
  {
   "cell_type": "markdown",
   "metadata": {},
   "source": [
    "### Advanced: repeated random splits\n",
    "An often heard question about cross-validation is what train/test ratio one should choose in their cross-validation paradigm. Usually, larger train sets (and thus smaller test sets), such as Leave-One-Out-Cross-Validation, lead to a **higher average performance** across folds, but also a **larger variance** of performance across folds. Or, in ML terms: a large train/test ratio leads to relatively low *bias* but high *variance*. \n",
    "\n",
    "On the other hand, relatively larger test-sets lead to lower performance estimates on average, but also less variance across folds. As such, it has been proposed to use test-sets of about 10% or 20% (that is, 10- or 5-fold cross-validation). Furthermore, instead of just doing K-fold cross-validation *once*, it has been argued that drawing *repeated random splits* of, let's say, 10% of your data improves generalization even more (see [Varoquaux (2017)](http://www.sciencedirect.com/science/article/pii/S105381191630595X)).\n",
    "\n",
    "This *repeated random splits* technique is sometimes referred to as *bagging* (which stands for *bootstrap aggregating*), a common \"ensembling\" technique in machine learning. Scikit-learn provides a class that implements this *repeated random splits* technique: `StratifiedShuffleSplit`. If you feel like it, try to implement a cross-validation pipeline using this procedure as indicated in the next ToDo."
   ]
  },
  {
   "cell_type": "markdown",
   "metadata": {},
   "source": [
    "<div class='alert alert-warning'>\n",
    "**ToDo**: Below, try to implement a *repeated random splits* cross-validation routine using `StratifiedShuffleSplit`! Check out the [documentation](http://scikit-learn.org/stable/modules/generated/sklearn.model_selection.StratifiedShuffleSplit.html#sklearn.model_selection.StratifiedShuffleSplit) for more info about its parameters.\n",
    "</div>"
   ]
  },
  {
   "cell_type": "code",
   "execution_count": null,
   "metadata": {
    "collapsed": true
   },
   "outputs": [],
   "source": [
    "from sklearn.model_selection import StratifiedShuffleSplit\n",
    "# Try implementing the ToDo here"
   ]
  },
  {
   "cell_type": "markdown",
   "metadata": {},
   "source": [
    "## 2.8. Feature selection/extraction\n",
    "While a complete discussion on (causes of) the phenomenon of \"overfitting\" is definitely beyond the scope of this workshop, it is generally agreed upon that a small sample/feature-ratio will likely lead to overfitting of your models (optimistic performance estimates on train-set). A small sample/feature ratio, unfortunately, is very common in machine learning analyses of neuroimaging (and especially fMRI) data, as the number of features (voxels, MEG sensors) often largely outnumber the amount of samples (trials or subjects).\n",
    "\n",
    "Given that this small sample/feature ratio (usually) leads to overfitting, it follows that reducing the amount of features often has a beneficial effect on cross-validated performance estimates. (Or alternatively, increasing your number of samples, but this is not always feasible due to practical and financial reasons...)\n",
    "\n",
    "Feature reduction can be achieved in two principled ways:\n",
    "\n",
    "* feature extraction: transform your features into a set of lower-dimensional components;\n",
    "* feature selection: select a subset of features\n",
    "\n",
    "Examples of feature extraction are PCA (i.e. transform voxels to orthogonal components) and averaging features within brain regions from an atlas.\n",
    "\n",
    "Examples of feature selection are ROI-analysis (i.e. restricting your patterns to a specific ROI in the brain) and \"univariate feature selection\" (UFS). This latter method is an often-used data-driven method to select features based upon their univariate difference. "
   ]
  },
  {
   "cell_type": "markdown",
   "metadata": {},
   "source": [
    "<div class='alert alert-info'>\n",
    "**ToThink**: Suppose a researcher wants to decode gratings with two different orientations from V1. To delineate V1, the subject underwent a retinotopy session in a *different* run. The data from this retinotopy session was subsequently used to delineate V1, which was in turn used to restrict the orientation decoding to. Is this a form of *feature selection* or *feature extraction*? Why? \n",
    "</div>"
   ]
  },
  {
   "cell_type": "markdown",
   "metadata": {},
   "source": [
    "<div class='alert alert-info'>\n",
    "**ToThink**: What could be a reason to prefer feature selection above feature extraction? And the other way around? \n",
    "</div>"
   ]
  },
  {
   "cell_type": "markdown",
   "metadata": {},
   "source": [
    "Fortunately, scikit-learn has a bunch of feature selection/extraction objects for us to use. These objects (\"transformers\" in scikit-learn lingo) work similarly to estimators: they also have a `fit(X, y)` method, in which for example the univariate differences (in UFS) or PCA-components (in PCA-driven feature extraction) are computed. Then, instead of having a `predict(X)` method, transformers have a `transform(X)` method."
   ]
  },
  {
   "cell_type": "markdown",
   "metadata": {},
   "source": [
    "### 2.8.1. (Univariate) feature selection\n",
    "As an example of feature selection, let's take a closer look at how UFS can be implemented using scikit-learn. Basically, it follows the following structure:\n",
    "\n",
    "```\n",
    "transformer = Selector(score_func=ufs_function, other_args)\n",
    "```\n",
    "\n",
    "Here, the `score_func` parameter takes a function that implements a univariate statistical test (like an [f-test](http://scikit-learn.org/stable/modules/generated/sklearn.feature_selection.f_classif.html#sklearn.feature_selection.f_classif) or a [chi-square test](http://scikit-learn.org/stable/modules/generated/sklearn.feature_selection.f_classif.html#sklearn.feature_selection.chi2)). The `Selector` class determines how to select the subset of features based on the result of the `score_func`. \n",
    "\n",
    "For example, the [SelectKBest](http://scikit-learn.org/stable/modules/generated/sklearn.feature_selection.SelectKBest.html#sklearn.feature_selection.SelectKBest) selector selects the best `K` features based on their scores from the statistical test. For example, the following transformer would select the best 100 features based on their F-score:"
   ]
  },
  {
   "cell_type": "code",
   "execution_count": null,
   "metadata": {
    "collapsed": true
   },
   "outputs": [],
   "source": [
    "from sklearn.feature_selection import SelectKBest, f_classif\n",
    "\n",
    "# f_classif is a scikit-learn specific implementation of the F-test\n",
    "select100best = SelectKBest(score_func=f_classif, k=100)"
   ]
  },
  {
   "cell_type": "markdown",
   "metadata": {},
   "source": [
    "Another example of a selector is `SelectFwe` which selects only features with statistics-values corresponding to p-values lower than a set alpha-level. For example, the following transformer would only select features with p-values from a chi-square test lower than 0.01: "
   ]
  },
  {
   "cell_type": "code",
   "execution_count": null,
   "metadata": {
    "collapsed": true
   },
   "outputs": [],
   "source": [
    "from sklearn.feature_selection import SelectFwe, chi2\n",
    "selectfwe_transformer = SelectFwe(score_func=chi2, alpha=0.01)"
   ]
  },
  {
   "cell_type": "markdown",
   "metadata": {},
   "source": [
    "But how does this work in practice? We'll show you an (not cross-validated!) example using the select100best transformer initialized earlier:"
   ]
  },
  {
   "cell_type": "code",
   "execution_count": null,
   "metadata": {},
   "outputs": [],
   "source": [
    "# Fit the transformer ...\n",
    "select100best.fit(X, y)\n",
    "\n",
    "# ... which calculates the following attributes (.scores_ and .pvalues_)\n",
    "# Let's check them out\n",
    "scores = select100best.scores_\n",
    "pvalues =  select100best.pvalues_\n",
    "\n",
    "# As you can see, each voxel gets its own score (in this case: an F-score)\n",
    "print(scores.size)"
   ]
  },
  {
   "cell_type": "markdown",
   "metadata": {},
   "source": [
    "We can also visualize these scores in brain space: "
   ]
  },
  {
   "cell_type": "code",
   "execution_count": null,
   "metadata": {
    "scrolled": true
   },
   "outputs": [],
   "source": [
    "import matplotlib.pyplot as plt\n",
    "%matplotlib inline\n",
    "\n",
    "scores_3d = scores.reshape((80, 80, 37))\n",
    "plt.figure(figsize=(20, 5))\n",
    "\n",
    "for i, slce in enumerate(np.arange(15, 65, 5)):\n",
    "    plt.subplot(2, 5, (i+1))\n",
    "    plt.title('X = %i' % slce, fontsize=20)\n",
    "    plt.imshow(scores_3d[slce, :, :].T, origin='lower', cmap='hot')\n",
    "    plt.axis('off')\n",
    "plt.tight_layout()\n",
    "plt.show()"
   ]
  },
  {
   "cell_type": "markdown",
   "metadata": {},
   "source": [
    "Thus, in the images above, brighter (more yellow) colors represent voxels with higher scores on the univariate test. If we subsequently apply (or \"transform\" in scikit-learn lingo) our X-matrix using, for example, the `select100best` selector, we'll select only the 100 \"most yellow\" (i.e. highest F-scores) voxels."
   ]
  },
  {
   "cell_type": "markdown",
   "metadata": {},
   "source": [
    "<div class='alert alert-info'>\n",
    "**ToThink**: Given the image above, what is the major difference between data driven feature selection (like UFS) and ROI-based feature selection (e.g. only look at patterns in the amygdala) in terms of the spatial scale of patterns you'll select? Try to think of an example of UFS over ROI-based feature selection and vice versa.\n",
    "</div>"
   ]
  },
  {
   "cell_type": "markdown",
   "metadata": {},
   "source": [
    "Practically, after we've fit the transformer, we can call the `transform(X)` method that will actually select the subset according to the selector:"
   ]
  },
  {
   "cell_type": "code",
   "execution_count": null,
   "metadata": {
    "scrolled": true
   },
   "outputs": [],
   "source": [
    "print(\"Shape of X before transform: %r ...\" % (X.shape,))\n",
    "X_after_ufs = select100best.transform(X)\n",
    "\n",
    "print(\"... and shape of X after transform: %r.\" % (X_after_ufs.shape,))"
   ]
  },
  {
   "cell_type": "markdown",
   "metadata": {},
   "source": [
    "As you can see, the transformer correctly selected a subset of 100 voxels from our X matrix! Now, both selectors were fit on the entire dataset, which is often course not how it should be done: because they use information from the labels (`y`), this step should be cross-validated. Thus, what you have to do is:\n",
    "\n",
    "* fit your transformer on the train-set;\n",
    "* transform your train-set;\n",
    "* transform your test-set;\n",
    "* (fit your model on the transformed train-set;)\n",
    "* (cross-validate to the transformed test-set;)\n",
    "\n",
    "We summarized the entire pipeline, including data partitioning (indexing), feature selection (transformation), and model fitting and their corresponding cross-validation steps in the image below:\n",
    "<img src='img/sklearn_transformers.png'>"
   ]
  },
  {
   "cell_type": "markdown",
   "metadata": {},
   "source": [
    "### 2.8.2 Feature extraction\n",
    "There are many methods for feature extraction, like \"downsampling\" to ROI-averages (i.e. averaging voxel patterns in brain regions) and dimensionality-reduction techniques like PCA. Scikit-learn provides some of these techniques as \"transformer\" objects, which again have a `fit()` and `transform` method. \n",
    "\n",
    "**Note**: since feature extraction techniques like PCA do not strictly use information from the labels (`y`), you might think that you do not have to cross-validate this step in your pipeline. This is **not** true. For a completely unbiased generalization error, you need to cross-validate every transformation in your data-set that is in some way dependent on the data (like UFS, PCA, but *not* ROI-based feature selection, since this is not dependent on the patterns themselves). \n",
    "\n",
    "In the next ToDo, you'll have to apply PCA-based feature extraction!"
   ]
  },
  {
   "cell_type": "markdown",
   "metadata": {},
   "source": [
    "<div class='alert alert-warning'>\n",
    "**ToDo**: Below, we import the `PCA` class from scikit-learn. Check out the [documentation](http://scikit-learn.org/stable/modules/generated/sklearn.decomposition.PCA.html). Now, initialize an object from this `PCA`-class with the number of components to store set to 5, and subsequently fit in on `X_train_tmp` and subsequently call transform on `X_train_tmp` and `X_test_tmp` separately; store the result in the variables `X_train_pca_transformed` and `X_test_pca_transformed`. Then, check out the shape of `X_train_pca_transformed`: does it have the shape you expected?\n",
    "</div>"
   ]
  },
  {
   "cell_type": "code",
   "execution_count": null,
   "metadata": {
    "collapsed": true
   },
   "outputs": [],
   "source": [
    "from sklearn.decomposition import PCA\n",
    "X_train_tmp, X_test_tmp = train_test_split(X, test_size=0.5)\n",
    "# initialize a PCA object ...\n",
    "\n",
    "# ... call fit on X_train_tmp ...\n",
    "\n",
    "\n",
    "# ... and call transform on X_train_tmp and X_test_tmp\n",
    "X_train_pca_transformed = \n",
    "X_test_pca_transformed = \n",
    "\n",
    "# And finally check out the shape of X_pca_transformed!\n"
   ]
  },
  {
   "cell_type": "markdown",
   "metadata": {},
   "source": [
    "### Integrating feature selection and model fitting/cv!\n",
    "Now, let's put everything you learned so far together and implement a fully cross-validated pipeline with UFS *and* model fitting/prediction!"
   ]
  },
  {
   "cell_type": "markdown",
   "metadata": {},
   "source": [
    "<div class='alert alert-warning'>\n",
    "**ToDo**: Below, we set up a K-fold cross-validation loop and prespecified a classifier (`clf`, a logistic regression model) and a transformer (`select50best`, selecting the 100 best features based upon an F-test). Now, it's up to you to actually implement the feature selection inside the for-loop. Make sure to fit the transformer only on the train-set, but then transform *both* the train-set and the test-set. Then, fit the model on the transformed train-set and cross-validate to the transformed test-set. Calculate performance (metric of your choice) of the cross-validated  model for each fold, and after all folds calculate the average performance (across folds).\n",
    "</div>"
   ]
  },
  {
   "cell_type": "code",
   "execution_count": null,
   "metadata": {
    "collapsed": true
   },
   "outputs": [],
   "source": [
    "from sklearn.linear_model import LogisticRegression\n",
    "\n",
    "clf = LogisticRegression()\n",
    "folds = skf.split(X, y)\n",
    "\n",
    "performance = np.zeros(5)\n",
    "select100best = SelectKBest(score_func=f_classif, k=100)\n",
    "\n",
    "i = 0\n",
    "for train_ix, test_idx in folds:\n",
    "    \n",
    "    # ToDo: make X_train, X_test, y_train, y_test\n",
    "    \n",
    "    # ToDo: call the select100best fit method (on X_train), and transform both X_train and X_test\n",
    "    \n",
    "    # ToDo: fit model on X_train (transformed) and predict X_test (transformed)\n",
    "    # also, save your performance (e.g roc-auc-curve) in the \"performance\" variable\n",
    "\n",
    "# ToDo: calculate average performance\n"
   ]
  },
  {
   "cell_type": "code",
   "execution_count": null,
   "metadata": {},
   "outputs": [],
   "source": [
    "from sklearn.linear_model import LogisticRegression\n",
    "\n",
    "clf = LogisticRegression()\n",
    "folds = skf.split(X, y)\n",
    "\n",
    "performance = []\n",
    "\n",
    "select50best = SelectKBest(score_func=f_classif, k=100)\n",
    "\n",
    "for fold in folds:\n",
    "    \n",
    "    train_idx, test_idx = fold\n",
    "    \n",
    "    # ToDo: make X_train, X_test, y_train, y_test\n",
    "    X_train = X[train_idx,:]\n",
    "    X_test = X[test_idx,:]\n",
    "    y_train = y[train_idx]\n",
    "    y_test = y[test_idx]\n",
    "    \n",
    "    # ToDo: call the select50best fit method (on X_train), and transform both X_train and X_test\n",
    "    select50best.fit(X=X_train, y=y_train)\n",
    "    X_train = select50best.transform(X=X_train)\n",
    "    X_test = select50best.transform(X=X_test)\n",
    "    \n",
    "    # ToDo: calculate accuracy\n",
    "    clf.fit(X=X_train, y=y_train)\n",
    "    y_test_hat = clf.predict(X=X_test)\n",
    "    performance.append(roc_auc_score(y_test, y_test_hat))\n",
    "\n",
    "# ToDo: calculate average accuracy\n",
    "print('Mean performance: %.3f' % np.mean(performance))"
   ]
  },
  {
   "cell_type": "markdown",
   "metadata": {},
   "source": [
    "### Advanced: cross-validation using Pipelines (optional)\n",
    "\n",
    "As you have seen in the previous assignment, the code within the K-fold for-loop becomes quite long (and messy) when you add a feature-selection step. Suppose you want to add another feature extraction step, like performing a PCA after an initial feature selection step. The code becomes even more obscure ...\n",
    "\n",
    "Fortunately, scikit-learn has an awesome solution for this: \"Pipelines\".\n",
    "\n",
    "Pipelines are somewhat more advanced functionality within scikit-learn, but we wanted to show you because it really \"cleans up\" your code, and additionally, it is a great safeguard for accidental overfitting (e.g. when you accidentally perform feature-selection on all your data instead of only your train-data). \n",
    "\n",
    "Anyway, how does this work? Well, a picture it worth a thousand words, so check out the image below which schematically depicts what a pipeline does:<br> <img src='img/pipelinesX.png' alt=\"Drawing\" heigth=\"400\" width=\"1000\">"
   ]
  },
  {
   "cell_type": "markdown",
   "metadata": {},
   "source": [
    "As you can see, a `Pipeline`-object \"strings together\" an arbitrary number of transformers (including \"preprocessing\" transformers like `StandardScaler`\\*) and can optionally end in an estimator. Pipeline-objects have two (relevant) methods: `fit(X, y)` and `predict(X, y)` (the latter method only exists if there is an estimator in the pipeline). To use it, you only have to call `fit()` with `X_train` and `y_train` and it'll sequentially fit the transformers which will finally pass the transformed data to the estimator. Then, simply call `predict()` with `X_test` as argument and the pipeline will automatically cross-validate all fitted transformers, and eventually the estimator, on the `X_test` variable. \n",
    "\n",
    "Okay, lot's of info - let's break this down. First, let's initialize some transformers and an estimator:\n",
    "\n",
    "------------\n",
    "\\* Feature scaling using e.g. [StandardScaler](http://scikit-learn.org/stable/modules/generated/sklearn.preprocessing.StandardScaler.html), which we discussed earlier, is generally recommended to cross-validate as well (i.e. apply the mean and std from the train-set to standardize the test-set.)"
   ]
  },
  {
   "cell_type": "code",
   "execution_count": null,
   "metadata": {
    "collapsed": true
   },
   "outputs": [],
   "source": [
    "from sklearn.preprocessing import StandardScaler\n",
    "from sklearn.decomposition import PCA\n",
    "\n",
    "scaler = StandardScaler()\n",
    "ufs = SelectKBest(score_func=f_classif, k=1000)\n",
    "pca = PCA(n_components=10)  # we want to reduce the features to 10 components\n",
    "svc = SVC(kernel='linear')"
   ]
  },
  {
   "cell_type": "markdown",
   "metadata": {},
   "source": [
    "Now, to initialize a Pipeline-object, we need to give it a list of tuples, in the first entry of each tuple is a name for the step in the pipeline and the second entry of each tuple is the actual transformer/estimator object. Let's do that for our pipeline:"
   ]
  },
  {
   "cell_type": "code",
   "execution_count": null,
   "metadata": {
    "collapsed": true
   },
   "outputs": [],
   "source": [
    "from sklearn.pipeline import Pipeline\n",
    "\n",
    "pipeline_to_make = [('preproc', scaler),\n",
    "                    ('ufs', ufs),\n",
    "                    ('pca', pca),\n",
    "                    ('clf', svc)]\n",
    "\n",
    "my_pipe = Pipeline(pipeline_to_make)"
   ]
  },
  {
   "cell_type": "markdown",
   "metadata": {},
   "source": [
    "Let's test our pipeline-object (`my_pipe`) on our data. For this example, we'll use a simple hold-out cross-validation scheme (but pipelines are equally valuable in K-fold CV schemes!)."
   ]
  },
  {
   "cell_type": "code",
   "execution_count": null,
   "metadata": {},
   "outputs": [],
   "source": [
    "X_train, y_train = X[0::2], y[0::2]\n",
    "X_test, y_test = X[1::2], y[1::2]\n",
    "\n",
    "my_pipe.fit(X_train, y_train)\n",
    "predictions = my_pipe.predict(X_test)\n",
    "acc = np.mean(predictions == y_test)\n",
    "print(\"Cross-validated accuracy on test-set: %.3f\" % acc)"
   ]
  },
  {
   "cell_type": "markdown",
   "metadata": {},
   "source": [
    "Cool stuff huh? Quite efficient, I would say!"
   ]
  },
  {
   "cell_type": "markdown",
   "metadata": {
    "collapsed": true
   },
   "source": [
    "## 2.9. Assessing significance\n",
    "Up to now, we examined the model performance of decoding the experimental condition from fMRI data of a **single** subject. When averaging over folds, we got one scalar estimate of performance. Usually, though, within-subject decoding studies measure multiple subjects and want to test whether their hypothesis - which is usually that *decoding is above chance* - generalizes to the population. Chance level decoding depends on the specific metric you use; for example, for accuracy, chance level equals to $\\frac{1}{P}$, where $P$ is the amount of classes. Decoding with binary classes, therefore, have a chance level of 50% for accuracy. However, as discussed before, accuracy is biased in scenarios with imbalanced classes, so we should use a 'class-imbalance-aware' metric - such as F1-score of ROC-AUC-curve - instead.\n",
    "\n",
    "Anyway, let's assume we use ROC-AUC-curve as our performance metric (chance level = 0.5), our group-level null ($H_{0}$) and alternative ($H_{a}$) hypotheses become:\n",
    "\n",
    "* $H_{0}$: performance = 0.5\n",
    "* $H_{a}$: performance > 0.5\n",
    "\n",
    "Given that we obtained performance estimates from a group of subjects, which should yield *independent* estimates, we can simply do a one-sample *t-test* of our performance estimates against chance (0.5).**\\*** To do so, we first need to loop our decoding analysis across all our participants to get a sample of decoding performances.\n",
    "\n",
    "---\n",
    "**\\* Note**: Last year, Carsten Allefeld and colleagues published a [paper](http://www.sciencedirect.com/science/article/pii/S1053811916303470) in which they show that second-level statistics using a t-test (or other parametric statistics) based on \"first-level\" per-subject performance estimates does **not** entail a random-effects analysis, but rather a fixed-effects analysis, and thus does not warrant inference to the population. This is because *true* performance estimates cannot possibly be below chance. We recommend trying to implement this in your own decoding analyses (we're also working on including this in our own machine learning package, [skbold](skbold.readthedocs.io))."
   ]
  },
  {
   "cell_type": "markdown",
   "metadata": {},
   "source": [
    "<div class='alert alert-warning'>\n",
    "**ToDo**: Before we start, we need to get the participant numbers of all our participants. To find these, we can make use of the directory names. In Section **1.3.1** you learned the tricks you need to get all subdirectory names of the `data` directory using a wildcard!\n",
    "\n",
    "</div>"
   ]
  },
  {
   "cell_type": "code",
   "execution_count": null,
   "metadata": {},
   "outputs": [],
   "source": [
    "participant_numbers = # Fill in the right glob call here!\n",
    "\n",
    "# Next, we need to extract the participant numbers from the paths you just obtained. We do this for you here.\n",
    "participant_numbers = [x.split('/')[-1] for x in participant_numbers]\n",
    "print(participant_numbers)"
   ]
  },
  {
   "cell_type": "markdown",
   "metadata": {},
   "source": [
    "#### Want to skip the ToDo?\n",
    "Run the next cell."
   ]
  },
  {
   "cell_type": "code",
   "execution_count": null,
   "metadata": {},
   "outputs": [],
   "source": [
    "participant_numbers = np.loadtxt('example_data/subject_names', dtype=str).tolist()"
   ]
  },
  {
   "cell_type": "code",
   "execution_count": null,
   "metadata": {},
   "outputs": [],
   "source": [
    "# Example answer\n",
    "participant_numbers = glob('../data/*')\n",
    "print(participant_numbers)\n",
    "\n",
    "# Next, we need to extract the participant numbers from the paths you just obtained. We do this for you here.\n",
    "participant_numbers = [x.split('/')[-1] for x in participant_numbers]\n",
    "print('\\nThere are the participant numbers:\\n%s' % participant_numbers)"
   ]
  },
  {
   "cell_type": "markdown",
   "metadata": {},
   "source": [
    "We can now use this `participants_numbers` list to loop over the participant names!"
   ]
  },
  {
   "cell_type": "markdown",
   "metadata": {},
   "source": [
    "<div class='alert alert-warning'>\n",
    "**ToDo** (optional!): This final ToDo is a big one, in which everything we learned so far comes together nicely. Write a loop over all participants, implementing a cross-valdidated classification pipeline including feature selection. We provide you with some \"boilerplate\" code to start with, but it's up to you to complete the analysis/loop.\n",
    "<br><br>\n",
    "Make sure to include the following:\n",
    "<br>\n",
    "    1. Scale the patterns (even better: cross-validate your scaler)<br>\n",
    "    2. Use 5-fold Stratified cross-validation<br>\n",
    "    3. Within each fold, select the best 100 features using an f_classif Selector<br>\n",
    "    4. Use a SVM to decode condition from these 100 features<br><br>\n",
    "    \n",
    "Optional:<br>\n",
    "- Use a scikit-learn Pipeline in which you group your scaler, selector, and estimator!<br><br>\n",
    "\n",
    "Hints:<br>\n",
    "- The design for each subject was exactly the same, so you can use the same \"y\" as in the previous example!<br>\n",
    "\n",
    "</div>"
   ]
  },
  {
   "cell_type": "code",
   "execution_count": null,
   "metadata": {},
   "outputs": [],
   "source": [
    "### Set your analyis parameters/pipeline ###\n",
    "\n",
    "# ToDo: initialize a stratified K-fold class (let's use K=5) \n",
    "skf =  \n",
    "# ToDo: Initialize the SelectKBest Selector with an f_classif score function\n",
    "select100best = \n",
    "    \n",
    "# ToDo: initialize an SVC-object\n",
    "clf = \n",
    "\n",
    "# Optional: build a pipeline-object!\n",
    "\n",
    "# Keep track of all performance estimates\n",
    "all_performance = np.zeros(len(participant_numbers))\n",
    "\n",
    "### Start loop over subjects ###\n",
    "for i_sub, participant_number in enumerate(participant_numbers):\n",
    "    \n",
    "    # For each participant, get all tstat file paths. We did this for a single subject in Section 1.3.1!\n",
    "    path_this_participant = op.join('..', 'data', participant_number, 'wm.feat', 'stats', 'tstat*.nii.gz')\n",
    "    t_stat_paths_this_participant = sort_nifti_paths(glob(path_this_participant))\n",
    "    \n",
    "    # Then, we need to create the pattern matrix X for each participant. Remember how we did this in Section 1.3.1?\n",
    "    # For each participant, we need to get the data dimensions. Let's extract these from the nifti header. \n",
    "    voxel_dims = nib.load(t_stat_paths_this_participant[0]).header.get_data_shape()\n",
    "    X = np.zeros((len(t_stat_paths_this_participant), np.prod(voxel_dims)))\n",
    "\n",
    "    # Load the data of each trial separately. This was the last thing we did as part of Part 1.\n",
    "    for trial, tstat_path in enumerate(t_stat_paths_this_participant):\n",
    "        data = nib.load(tstat_path).get_data()\n",
    "        data = data.ravel()\n",
    "        X[trial,:] = data\n",
    "    \n",
    "    # ToDo: scale the patterns (or optionally: cross-validate the scaler by fitting on train)\n",
    "    \n",
    "    # All data of the current participant is now loaded! We can start the pattern analysis for this participant now\n",
    "    \n",
    "    # Keep track of accuracies between folds\n",
    "    accuracy_this_participant = np.zeros(5)\n",
    "    \n",
    "    # Loop over the folds\n",
    "    for i_fold, (train_idx, test_idx) in enumerate(skf.split(X, y)):\n",
    "\n",
    "        # ToDo: make X_train, X_test, y_train, y_test\n",
    "\n",
    "        # ToDo: call the select50best fit method (on X_train), and transform both X_train and X_test\n",
    "    \n",
    "        # ToDo: fit your model on the train data\n",
    "        \n",
    "        # ToDo: predict the classes of your test data\n",
    "        \n",
    "        # ToDo: calculate the performance (use ROC-AUC-curve) in this fold\n",
    "        performance = \n",
    "        \n",
    "        accuracy_this_participant[i_fold] = performance\n",
    "\n",
    "    # ToDo: calculate average accuracy (mean across folds!)\n",
    "    mean_accuracy_this_participant = \n",
    "    print('Mean accuracy for participant %s: %.3f' % (participant_number, mean_accuracy_this_participant))\n",
    "    \n",
    "    all_performance[i_sub] = mean_accuracy_this_participant\n",
    "\n",
    "print('Final accuracy score mean (std): %.3f (%.3f)' % (all_performance.mean(), all_performance.std())"
   ]
  },
  {
   "cell_type": "code",
   "execution_count": null,
   "metadata": {
    "collapsed": true
   },
   "outputs": [],
   "source": [
    "from sklearn.feature_selection import SelectKBest, f_classif\n",
    "from sklearn.pipeline import Pipeline\n",
    "from sklearn.metrics import roc_auc_score"
   ]
  },
  {
   "cell_type": "code",
   "execution_count": null,
   "metadata": {},
   "outputs": [],
   "source": [
    "### Set your analyis parameters/pipeline ###\n",
    "\n",
    "# ToDo: initialize a stratified K-fold class (let's use K=5) \n",
    "skf = StratifiedKFold(n_splits=5)\n",
    "# ToDo: Initialize the SelectKBest Selector with an f_classif score function\n",
    "select100best = SelectKBest(score_func=f_classif, k=100)\n",
    "    \n",
    "# ToDo: initialize an SVC-object\n",
    "clf = SVC(kernel='linear')\n",
    "\n",
    "# Optional: build a pipeline-object!\n",
    "pipe = Pipeline([('scaler', StandardScaler()),\n",
    "                 ('ufs', select100best),\n",
    "                 ('clf', clf)])\n",
    "\n",
    "# Keep track of all performance estimates\n",
    "all_performance = np.zeros(len(participant_numbers))\n",
    "\n",
    "### Start loop over subjects ###\n",
    "for i_sub, participant_number in enumerate(participant_numbers):\n",
    "    \n",
    "    # For each participant, get all tstat file paths. We did this for a single subject in Section 1.3.1!\n",
    "    path_this_participant = op.join('..', 'data', participant_number, 'wm.feat', 'stats', 'tstat*.nii.gz')\n",
    "    t_stat_paths_this_participant = sort_nifti_paths(glob(path_this_participant))\n",
    "    \n",
    "    # Then, we need to create the pattern matrix X for each participant. Remember how we did this in Section 1.3.1?\n",
    "    # For each participant, we need to get the data dimensions. Let's extract these from the nifti header. \n",
    "    voxel_dims = nib.load(t_stat_paths_this_participant[0]).header.get_data_shape()\n",
    "    X = np.zeros((len(t_stat_paths_this_participant), np.prod(voxel_dims)))\n",
    "\n",
    "    # Load the data of each trial separately. This was the last thing we did as part of Part 1.\n",
    "    for trial, tstat_path in enumerate(t_stat_paths_this_participant):\n",
    "        data = nib.load(tstat_path).get_data()\n",
    "        data = data.ravel()\n",
    "        X[trial,:] = data\n",
    "    \n",
    "    accuracy_this_participant = np.zeros(5)\n",
    "    \n",
    "    for i_fold, (train_idx, test_idx) in enumerate(skf.split(X, y)):\n",
    "        X_train, X_test = X[train_idx], X[test_idx]\n",
    "        y_train, y_test = y[train_idx], y[test_idx]\n",
    "        pipe.fit(X_train, y_train)\n",
    "        pred = pipe.predict(X_test)\n",
    "        performance = roc_auc_score(y_test, pred)\n",
    "        accuracy_this_participant[i_fold] = performance\n",
    "\n",
    "    # ToDo: calculate average accuracy (mean across folds!)\n",
    "    mean_accuracy_this_participant = np.mean(accuracy_this_participant)\n",
    "    print('Mean accuracy for participant %s: %.3f' % (participant_number, mean_accuracy_this_participant))\n",
    "    \n",
    "    all_performance[i_sub] = mean_accuracy_this_participant\n",
    "\n",
    "print('Final accuracy score mean (std): %.3f (%.3f)' % (all_performance.mean(), all_performance.std()))"
   ]
  },
  {
   "cell_type": "markdown",
   "metadata": {},
   "source": [
    "If everything went well, you now have a list `all_performance` which contains the accuracies (mean over folds) of all participants! This is all data we need to do a one-sample t-test.\n",
    "\n",
    "The one-sample t-test is implemented in the Python package Scipy. Let's load it first"
   ]
  },
  {
   "cell_type": "code",
   "execution_count": null,
   "metadata": {
    "collapsed": true
   },
   "outputs": [],
   "source": [
    "from scipy.stats import ttest_1samp"
   ]
  },
  {
   "cell_type": "markdown",
   "metadata": {},
   "source": [
    "The function requires two arguments: the vector of values to test, and the hypothesized population mean. In our case, the data vector is `all_accuracies`, and the population mean is 0.50. If done correctly, the `ttest_1samp` function returns a tuple of the t-value and the p-value."
   ]
  },
  {
   "cell_type": "markdown",
   "metadata": {},
   "source": [
    "<div class='alert alert-warning'>\n",
    "**ToDo**: Do the one-sample t-test! Can we decode the condition with a significantly above-chance accuracy?\n",
    "\n",
    "</div>"
   ]
  },
  {
   "cell_type": "code",
   "execution_count": null,
   "metadata": {},
   "outputs": [],
   "source": [
    "# Example answer\n",
    "t, p = ttest_1samp(all_performance, 0.5)\n",
    "print('The t-value is %.3f, with a p-value of %.5f' % (t, p))"
   ]
  },
  {
   "cell_type": "markdown",
   "metadata": {},
   "source": [
    "Finally, we can draw our conclusions: can we decode trial condition, using the fMRI data, with an above-chance accuracy? (Yes we can!)"
   ]
  },
  {
   "cell_type": "markdown",
   "metadata": {},
   "source": [
    "## Congratulations! You've reached the end of this tutorial\n",
    "\n",
    "We hope you enjoyed the workshop. It should be stressed that these are really the basics of MVPA - every step that was introduced warrants it own workshop (feature selection, feature extraction, model selection, cross-validation, significance testing - and much more that we did not discuss such as regularization, hyperparameter optimization/grid-search, and feature visualization). You are encouraged to discover what's possible with MVPA on your own!\n",
    "\n",
    "Additional resources that may help:\n",
    "- [`The scikit-learn manual`](http://scikit-learn.org/stable/index.html)\n",
    "- [`skbold`](https://github.com/lukassnoek/skbold)\n",
    "\n",
    "Good luck using MVPA!"
   ]
  },
  {
   "cell_type": "markdown",
   "metadata": {},
   "source": [
    "## Extra literature ...\n",
    "If you want some more background information/material on machine learning in the context of neuroimaging, we recommend the following articles:\n",
    "\n",
    "#### On machine learning in Python\n",
    "* [Pedregosa, F., Varoquaux, G., Gramfort, A., Michel, V., Thirion, B., Grisel, O., ... & Vanderplas, J. (2011). Scikit-learn: Machine learning in Python. Journal of Machine Learning Research, 12(Oct), 2825-2830.](http://www.jmlr.org/papers/v12/pedregosa11a.html)\n",
    "* [Abraham, A., Pedregosa, F., Eickenberg, M., Gervais, P., Mueller, A., Kossaifi, J., ... & Varoquaux, G. (2014). Machine learning for neuroimaging with scikit-learn. Frontiers in neuroinformatics, 8.](https://www.ncbi.nlm.nih.gov/pmc/articles/PMC3930868/)\n",
    "\n",
    "#### On MVPA design\n",
    "* [Mumford, J. A., Turner, B. O., Ashby, F. G., & Poldrack, R. A. (2012). Deconvolving BOLD activation in event-related designs for multivoxel pattern classification analyses. Neuroimage, 59(3), 2636-2643.](http://www.sciencedirect.com/science/article/pii/S1053811911010081)\n",
    "* [Mumford, J. A., Davis, T., & Poldrack, R. A. (2014). The impact of study design on pattern estimation for single-trial multivariate pattern analysis. Neuroimage, 103, 130-138.](http://www.sciencedirect.com/science/article/pii/S105381191400768X)\n",
    "\n",
    "#### On cross-validation\n",
    "* [Varoquaux, G., Raamana, P. R., Engemann, D. A., Hoyos-Idrobo, A., Schwartz, Y., & Thirion, B. (2017). Assessing and tuning brain decoders: cross-validation, caveats, and guidelines. NeuroImage, 145, 166-179.](http://www.sciencedirect.com/science/article/pii/S105381191630595X)\n",
    "* [Varoquaux, G. (2017). Cross-validation failure: small sample sizes lead to large error bars. NeuroImage.](http://www.sciencedirect.com/science/article/pii/S1053811917305311#bib51)\n",
    "\n",
    "#### On (group-level) statistics\n",
    "* [Allefeld, C., Görgen, K., & Haynes, J. D. (2016). Valid population inference for information-based imaging: From the second-level t-test to prevalence inference. NeuroImage, 141, 378-392.](http://www.sciencedirect.com/science/article/pii/S1053811916303470)\n",
    "* [Etzel, J. (2017). MVPA significance testing when just above chance, and related properties of permutation tests. 2017 International Workshop on Pattern Recognition in Neuroimaging (PRNI)](http://ieeexplore.ieee.org/stamp/stamp.jsp?tp=&arnumber=7981498)"
   ]
  },
  {
   "cell_type": "markdown",
   "metadata": {},
   "source": [
    "## Extra! Using `skbold` for your machine learning analyses\n",
    "As indicated earlier, "
   ]
  },
  {
   "cell_type": "code",
   "execution_count": null,
   "metadata": {
    "collapsed": true
   },
   "outputs": [],
   "source": []
  }
 ],
 "metadata": {
  "anaconda-cloud": {},
  "kernelspec": {
   "display_name": "Python 3",
   "language": "python",
   "name": "python3"
  },
  "language_info": {
   "codemirror_mode": {
    "name": "ipython",
    "version": 3
   },
   "file_extension": ".py",
   "mimetype": "text/x-python",
   "name": "python",
   "nbconvert_exporter": "python",
   "pygments_lexer": "ipython3",
   "version": "3.6.1"
  }
 },
 "nbformat": 4,
 "nbformat_minor": 1
}
